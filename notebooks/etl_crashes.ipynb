{
 "cells": [
  {
   "cell_type": "markdown",
   "id": "11cefab4-3b88-4763-8d36-f1da9fb35ccd",
   "metadata": {},
   "source": [
    "# Montgomery crashes"
   ]
  },
  {
   "cell_type": "code",
   "execution_count": 28,
   "id": "5a4e8c03-3ab9-4436-87e6-fc884a2cf40b",
   "metadata": {},
   "outputs": [],
   "source": [
    "from datetime import datetime\n",
    "\n",
    "import pandas as pd"
   ]
  },
  {
   "cell_type": "code",
   "execution_count": 55,
   "id": "adcb9567-133b-43f1-af5c-3f22fd83c47a",
   "metadata": {},
   "outputs": [],
   "source": [
    "crashes_raw = pd.read_csv(\"../data/montgomery_incidents_data.csv\")"
   ]
  },
  {
   "cell_type": "code",
   "execution_count": 17,
   "id": "9f5367af-64b9-4c16-a9dd-76e83cdf05e6",
   "metadata": {},
   "outputs": [],
   "source": [
    "def describe(column):\n",
    "    return column.value_counts(dropna=False)"
   ]
  },
  {
   "cell_type": "code",
   "execution_count": 134,
   "id": "3cd3d6ec-3908-4d61-919f-1a23a5697777",
   "metadata": {},
   "outputs": [],
   "source": [
    "def filter_columns(data):\n",
    "    \"\"\" keeps only necessary columns with changed names and format \"\"\"\n",
    "    # keep columns\n",
    "    data = data[['Report Number', 'Local Case Number', 'Agency Name', 'ACRS Report Type', 'Crash Date/Time', 'Hit/Run', 'Route Type', 'Lane Direction', 'Lane Number',\n",
    "                'Number of Lanes', 'Road Grade', 'NonTraffic', 'Road Name', 'Cross-Street Type', 'Cross-Street Name', 'Off-Road Description',\n",
    "                 'At Fault', 'Collision Type', 'Surface Condition', 'Light', 'Traffic Control', 'Junction', 'Intersection Type',\n",
    "                'Road Alignment', 'Road Condition', 'Road Division', 'Latitude', 'Longitude']]\n",
    "    # change names\n",
    "    data.columns = ['ReportNumber', 'LocalCaseNumber', 'AgencyName', 'ACRSReportType', 'Datetime', 'HitRun', 'RouteType', 'LaneDirection', 'LaneNumber',\n",
    "                'NumberOfLanes', 'RoadGrade', 'NonTraffic', 'RoadName', 'CrossStreetType', 'CrossStreetName', 'OffRoadIncident',\n",
    "                 'AccidentAtFault', 'CollisionType', 'SurfaceCondition', 'Light', 'TrafficControl', 'Junction', 'IntersectionType',\n",
    "                'RoadAlignment', 'RoadCondition', 'RoadDivision', 'Latitude', 'Longitude']\n",
    "    # change format\n",
    "    data = data.astype(str)\n",
    "    data['LaneNumber'] = pd.to_numeric(data['LaneNumber'])\n",
    "    data['NumberOfLanes'] = pd.to_numeric(data['NumberOfLanes'])\n",
    "    data['Latitude'] = pd.to_numeric(data['Latitude'])\n",
    "    data['Longitude'] = pd.to_numeric(data['Longitude'])\n",
    "    return data"
   ]
  },
  {
   "cell_type": "code",
   "execution_count": 154,
   "id": "2a2837cf-aabb-42f9-8bc8-187a9c7e16e4",
   "metadata": {},
   "outputs": [],
   "source": [
    "def change_to_unknown(string):\n",
    "    return 'UNKNOWN' if (string.lower() == 'unknown' or string == 'nan' or string == '') else string"
   ]
  },
  {
   "cell_type": "code",
   "execution_count": 155,
   "id": "66297914-bd53-41a2-95b2-dd85b8e248da",
   "metadata": {},
   "outputs": [],
   "source": [
    "def handle_nans(data):\n",
    "    data = data.copy()\n",
    "    # \n",
    "    data['LaneNumber'] = data['LaneNumber'].fillna(0)\n",
    "    data['NumberOfLanes'] = data['NumberOfLanes'].fillna(0)\n",
    "    # str columns changed to unknown\n",
    "    columns_to_unknown = ['AgencyName', 'ACRSReportType', 'RouteType', 'LaneDirection', 'RoadGrade', 'RoadName', 'CrossStreetType', 'CrossStreetName', 'AccidentAtFault',\n",
    "                          'CollisionType', 'SurfaceCondition', 'Light', 'TrafficControl', 'Junction', 'IntersectionType', 'RoadAlignment', 'RoadCondition', 'RoadDivision']\n",
    "    for col in columns_to_unknown:\n",
    "        data[col] = data[col].apply(change_to_unknown)\n",
    "    # Datetime, HitRun, NonTraffic, OffRoadIncident handled in transform\n",
    "    return data"
   ]
  },
  {
   "cell_type": "code",
   "execution_count": 156,
   "id": "299b1a18-482d-4025-a6aa-35f2656da0fa",
   "metadata": {},
   "outputs": [],
   "source": [
    "def map_to_datetime(date_str):\n",
    "    try:\n",
    "        date = datetime.strptime(date_str, \"%m/%d/%Y %I:%M:%S %p\")\n",
    "    except Exception:\n",
    "        date = \"\"\n",
    "    return date"
   ]
  },
  {
   "cell_type": "code",
   "execution_count": 157,
   "id": "ff018945-9961-4d98-8d88-403e4df99ea5",
   "metadata": {},
   "outputs": [],
   "source": [
    "def transform_columns(data):\n",
    "    data = data.copy()\n",
    "    # nothing to clean 'ReportNumber', 'LocalCaseNumber', 'AgencyName', maybe validate?\n",
    "    # clean acrs report type\n",
    "    data['ACRSReportType'] = data['ACRSReportType'].apply(lambda x: x.replace(\"Crash\", \"\"))\n",
    "    # crash date to datetime format\n",
    "    data['Datetime'] = data['Datetime'].apply(map_to_datetime)\n",
    "    # change hitrun to boolean\n",
    "    data['HitRun'] = data['HitRun'].apply(lambda x: True if x == 'Yes' else False)\n",
    "    data['NonTraffic'] = data['NonTraffic'].apply(lambda x: True if x == 'Yes' else False)\n",
    "    # map offroadincident to binary\n",
    "    data['OffRoadIncident'] = data['OffRoadIncident'].apply(lambda x: False if (x == 'nan' or x == '') else True)\n",
    "    # obrobienie ładnie collision type?\n",
    "    return data"
   ]
  },
  {
   "cell_type": "code",
   "execution_count": 158,
   "id": "dfe64b6f-3b85-4b4c-86b2-ba11460002df",
   "metadata": {},
   "outputs": [],
   "source": [
    "crashes_filtered = filter_columns(crashes_raw)\n",
    "crashes_nonull = handle_nans(crashes_filtered)\n",
    "crashes = transform_columns(crashes_nonull)"
   ]
  },
  {
   "cell_type": "code",
   "execution_count": 217,
   "id": "c4d61c5c-c31e-4cb2-b700-df2b0bc0f98c",
   "metadata": {},
   "outputs": [
    {
     "data": {
      "text/html": [
       "<div>\n",
       "<style scoped>\n",
       "    .dataframe tbody tr th:only-of-type {\n",
       "        vertical-align: middle;\n",
       "    }\n",
       "\n",
       "    .dataframe tbody tr th {\n",
       "        vertical-align: top;\n",
       "    }\n",
       "\n",
       "    .dataframe thead th {\n",
       "        text-align: right;\n",
       "    }\n",
       "</style>\n",
       "<table border=\"1\" class=\"dataframe\">\n",
       "  <thead>\n",
       "    <tr style=\"text-align: right;\">\n",
       "      <th></th>\n",
       "      <th>ReportNumber</th>\n",
       "      <th>LocalCaseNumber</th>\n",
       "      <th>AgencyName</th>\n",
       "      <th>ACRSReportType</th>\n",
       "      <th>Datetime</th>\n",
       "      <th>HitRun</th>\n",
       "      <th>RouteType</th>\n",
       "      <th>LaneDirection</th>\n",
       "      <th>LaneNumber</th>\n",
       "      <th>NumberOfLanes</th>\n",
       "      <th>...</th>\n",
       "      <th>SurfaceCondition</th>\n",
       "      <th>Light</th>\n",
       "      <th>TrafficControl</th>\n",
       "      <th>Junction</th>\n",
       "      <th>IntersectionType</th>\n",
       "      <th>RoadAlignment</th>\n",
       "      <th>RoadCondition</th>\n",
       "      <th>RoadDivision</th>\n",
       "      <th>Latitude</th>\n",
       "      <th>Longitude</th>\n",
       "    </tr>\n",
       "  </thead>\n",
       "  <tbody>\n",
       "    <tr>\n",
       "      <th>0</th>\n",
       "      <td>MCP2686006F</td>\n",
       "      <td>230031339</td>\n",
       "      <td>Montgomery County Police</td>\n",
       "      <td>Property Damage</td>\n",
       "      <td>2023-06-30 22:55:00</td>\n",
       "      <td>False</td>\n",
       "      <td>UNKNOWN</td>\n",
       "      <td>UNKNOWN</td>\n",
       "      <td>0</td>\n",
       "      <td>0</td>\n",
       "      <td>...</td>\n",
       "      <td>UNKNOWN</td>\n",
       "      <td>DARK NO LIGHTS</td>\n",
       "      <td>NO CONTROLS</td>\n",
       "      <td>UNKNOWN</td>\n",
       "      <td>UNKNOWN</td>\n",
       "      <td>UNKNOWN</td>\n",
       "      <td>UNKNOWN</td>\n",
       "      <td>UNKNOWN</td>\n",
       "      <td>39.244280</td>\n",
       "      <td>-77.335827</td>\n",
       "    </tr>\n",
       "    <tr>\n",
       "      <th>1</th>\n",
       "      <td>MCP30580053</td>\n",
       "      <td>230064814</td>\n",
       "      <td>Montgomery County Police</td>\n",
       "      <td>Property Damage</td>\n",
       "      <td>2023-11-06 23:20:00</td>\n",
       "      <td>True</td>\n",
       "      <td>UNKNOWN</td>\n",
       "      <td>UNKNOWN</td>\n",
       "      <td>0</td>\n",
       "      <td>0</td>\n",
       "      <td>...</td>\n",
       "      <td>UNKNOWN</td>\n",
       "      <td>DARK LIGHTS ON</td>\n",
       "      <td>NO CONTROLS</td>\n",
       "      <td>UNKNOWN</td>\n",
       "      <td>UNKNOWN</td>\n",
       "      <td>UNKNOWN</td>\n",
       "      <td>UNKNOWN</td>\n",
       "      <td>UNKNOWN</td>\n",
       "      <td>39.117697</td>\n",
       "      <td>-77.183973</td>\n",
       "    </tr>\n",
       "    <tr>\n",
       "      <th>2</th>\n",
       "      <td>MCP2760004K</td>\n",
       "      <td>230071388</td>\n",
       "      <td>Montgomery County Police</td>\n",
       "      <td>Property Damage</td>\n",
       "      <td>2023-12-12 20:00:00</td>\n",
       "      <td>True</td>\n",
       "      <td>UNKNOWN</td>\n",
       "      <td>UNKNOWN</td>\n",
       "      <td>0</td>\n",
       "      <td>0</td>\n",
       "      <td>...</td>\n",
       "      <td>UNKNOWN</td>\n",
       "      <td>DARK LIGHTS ON</td>\n",
       "      <td>NO CONTROLS</td>\n",
       "      <td>UNKNOWN</td>\n",
       "      <td>UNKNOWN</td>\n",
       "      <td>UNKNOWN</td>\n",
       "      <td>UNKNOWN</td>\n",
       "      <td>UNKNOWN</td>\n",
       "      <td>39.148897</td>\n",
       "      <td>-77.209362</td>\n",
       "    </tr>\n",
       "    <tr>\n",
       "      <th>3</th>\n",
       "      <td>MCP3230004G</td>\n",
       "      <td>230031335</td>\n",
       "      <td>Montgomery County Police</td>\n",
       "      <td>Property Damage</td>\n",
       "      <td>2023-06-30 20:00:00</td>\n",
       "      <td>False</td>\n",
       "      <td>County</td>\n",
       "      <td>North</td>\n",
       "      <td>1</td>\n",
       "      <td>2</td>\n",
       "      <td>...</td>\n",
       "      <td>DRY</td>\n",
       "      <td>DAYLIGHT</td>\n",
       "      <td>TRAFFIC SIGNAL</td>\n",
       "      <td>INTERSECTION</td>\n",
       "      <td>FOUR-WAY INTERSECTION</td>\n",
       "      <td>STRAIGHT</td>\n",
       "      <td>NO DEFECTS</td>\n",
       "      <td>TWO-WAY, DIVIDED, UNPROTECTED PAINTED MIN 4 FEET</td>\n",
       "      <td>39.092024</td>\n",
       "      <td>-77.070570</td>\n",
       "    </tr>\n",
       "    <tr>\n",
       "      <th>4</th>\n",
       "      <td>MCP12600013</td>\n",
       "      <td>230031067</td>\n",
       "      <td>Montgomery County Police</td>\n",
       "      <td>Injury</td>\n",
       "      <td>2023-06-29 11:53:00</td>\n",
       "      <td>False</td>\n",
       "      <td>Maryland (State)</td>\n",
       "      <td>North</td>\n",
       "      <td>1</td>\n",
       "      <td>1</td>\n",
       "      <td>...</td>\n",
       "      <td>DRY</td>\n",
       "      <td>DAYLIGHT</td>\n",
       "      <td>STOP SIGN</td>\n",
       "      <td>NON INTERSECTION</td>\n",
       "      <td>UNKNOWN</td>\n",
       "      <td>STRAIGHT</td>\n",
       "      <td>NO DEFECTS</td>\n",
       "      <td>TWO-WAY, DIVIDED, UNPROTECTED PAINTED MIN 4 FEET</td>\n",
       "      <td>39.277424</td>\n",
       "      <td>-77.324644</td>\n",
       "    </tr>\n",
       "  </tbody>\n",
       "</table>\n",
       "<p>5 rows × 28 columns</p>\n",
       "</div>"
      ],
      "text/plain": [
       "  ReportNumber LocalCaseNumber                AgencyName    ACRSReportType  \\\n",
       "0  MCP2686006F       230031339  Montgomery County Police  Property Damage    \n",
       "1  MCP30580053       230064814  Montgomery County Police  Property Damage    \n",
       "2  MCP2760004K       230071388  Montgomery County Police  Property Damage    \n",
       "3  MCP3230004G       230031335  Montgomery County Police  Property Damage    \n",
       "4  MCP12600013       230031067  Montgomery County Police           Injury    \n",
       "\n",
       "             Datetime  HitRun         RouteType LaneDirection  LaneNumber  \\\n",
       "0 2023-06-30 22:55:00   False           UNKNOWN       UNKNOWN           0   \n",
       "1 2023-11-06 23:20:00    True           UNKNOWN       UNKNOWN           0   \n",
       "2 2023-12-12 20:00:00    True           UNKNOWN       UNKNOWN           0   \n",
       "3 2023-06-30 20:00:00   False            County         North           1   \n",
       "4 2023-06-29 11:53:00   False  Maryland (State)         North           1   \n",
       "\n",
       "   NumberOfLanes  ... SurfaceCondition           Light  TrafficControl  \\\n",
       "0              0  ...          UNKNOWN  DARK NO LIGHTS     NO CONTROLS   \n",
       "1              0  ...          UNKNOWN  DARK LIGHTS ON     NO CONTROLS   \n",
       "2              0  ...          UNKNOWN  DARK LIGHTS ON     NO CONTROLS   \n",
       "3              2  ...              DRY        DAYLIGHT  TRAFFIC SIGNAL   \n",
       "4              1  ...              DRY        DAYLIGHT       STOP SIGN   \n",
       "\n",
       "           Junction       IntersectionType  RoadAlignment RoadCondition  \\\n",
       "0           UNKNOWN                UNKNOWN        UNKNOWN       UNKNOWN   \n",
       "1           UNKNOWN                UNKNOWN        UNKNOWN       UNKNOWN   \n",
       "2           UNKNOWN                UNKNOWN        UNKNOWN       UNKNOWN   \n",
       "3      INTERSECTION  FOUR-WAY INTERSECTION       STRAIGHT    NO DEFECTS   \n",
       "4  NON INTERSECTION                UNKNOWN       STRAIGHT    NO DEFECTS   \n",
       "\n",
       "                                       RoadDivision   Latitude  Longitude  \n",
       "0                                           UNKNOWN  39.244280 -77.335827  \n",
       "1                                           UNKNOWN  39.117697 -77.183973  \n",
       "2                                           UNKNOWN  39.148897 -77.209362  \n",
       "3  TWO-WAY, DIVIDED, UNPROTECTED PAINTED MIN 4 FEET  39.092024 -77.070570  \n",
       "4  TWO-WAY, DIVIDED, UNPROTECTED PAINTED MIN 4 FEET  39.277424 -77.324644  \n",
       "\n",
       "[5 rows x 28 columns]"
      ]
     },
     "execution_count": 217,
     "metadata": {},
     "output_type": "execute_result"
    }
   ],
   "source": [
    "crashes.head()"
   ]
  },
  {
   "cell_type": "markdown",
   "id": "4e6cb4fd-e9d3-4f31-b7c2-288e16569daa",
   "metadata": {},
   "source": [
    "## Creating RoadDim"
   ]
  },
  {
   "cell_type": "code",
   "execution_count": 251,
   "id": "98ef80e4-1bf0-485c-9909-d0987fe07e21",
   "metadata": {},
   "outputs": [],
   "source": [
    "def prepare_roaddim_data(data):\n",
    "    data = data[['Road Name', 'Route Type', 'Cross-Street Name', 'Cross-Street Type']]\n",
    "    data.columns = ['RoadName', 'RouteType', 'CrossStreetName', 'CrossStreetType']\n",
    "    data = data.astype(str)\n",
    "    for col in data.columns:\n",
    "        data[col] = data[col].apply(change_to_unknown)\n",
    "    return data"
   ]
  },
  {
   "cell_type": "code",
   "execution_count": 222,
   "id": "1c66d232-32e6-40c1-8318-b7d8f221859f",
   "metadata": {},
   "outputs": [],
   "source": [
    "def generate_roaddim_key(name_col, type_col):\n",
    "    return name_col.apply(lambda x: x.replace(' ', '_')) + '_' + type_col.apply(lambda x: x.split()[0])"
   ]
  },
  {
   "cell_type": "code",
   "execution_count": 252,
   "id": "93b1ac40-b70e-49be-b736-7e200d416f3b",
   "metadata": {},
   "outputs": [],
   "source": [
    "crashes_road = prepare_roaddim_data(crashes_raw)\n",
    "roads = crashes_road[['RoadName', 'RouteType']]\n",
    "crossroads = crashes_road[['CrossStreetName', 'CrossStreetType']]\n",
    "crossroads.columns = ['RoadName', 'RouteType']"
   ]
  },
  {
   "cell_type": "code",
   "execution_count": 213,
   "id": "0b547206-1179-4b19-a176-a6fd7c8f8324",
   "metadata": {},
   "outputs": [],
   "source": [
    "road_dim = pd.concat([roads, crossroads]).drop_duplicates()"
   ]
  },
  {
   "cell_type": "code",
   "execution_count": 223,
   "id": "f184e14c-37ed-4099-9a4b-8372f493ca33",
   "metadata": {},
   "outputs": [],
   "source": [
    "road_dim['RoadKey'] = generate_roaddim_key(road_dim['RoadName'], road_dim['RouteType'])"
   ]
  },
  {
   "cell_type": "code",
   "execution_count": 224,
   "id": "5dbae478-7d6c-4b0b-9de2-7283f986ebf1",
   "metadata": {},
   "outputs": [
    {
     "data": {
      "text/html": [
       "<div>\n",
       "<style scoped>\n",
       "    .dataframe tbody tr th:only-of-type {\n",
       "        vertical-align: middle;\n",
       "    }\n",
       "\n",
       "    .dataframe tbody tr th {\n",
       "        vertical-align: top;\n",
       "    }\n",
       "\n",
       "    .dataframe thead th {\n",
       "        text-align: right;\n",
       "    }\n",
       "</style>\n",
       "<table border=\"1\" class=\"dataframe\">\n",
       "  <thead>\n",
       "    <tr style=\"text-align: right;\">\n",
       "      <th></th>\n",
       "      <th>RoadName</th>\n",
       "      <th>RouteType</th>\n",
       "      <th>RoadKey</th>\n",
       "    </tr>\n",
       "  </thead>\n",
       "  <tbody>\n",
       "    <tr>\n",
       "      <th>0</th>\n",
       "      <td>UNKNOWN</td>\n",
       "      <td>UNKNOWN</td>\n",
       "      <td>UNKNOWN_UNKNOWN</td>\n",
       "    </tr>\n",
       "    <tr>\n",
       "      <th>3</th>\n",
       "      <td>BEL PRE RD</td>\n",
       "      <td>County</td>\n",
       "      <td>BEL_PRE_RD_County</td>\n",
       "    </tr>\n",
       "    <tr>\n",
       "      <th>4</th>\n",
       "      <td>OLD HUNDRED RD</td>\n",
       "      <td>Maryland (State)</td>\n",
       "      <td>OLD_HUNDRED_RD_Maryland</td>\n",
       "    </tr>\n",
       "    <tr>\n",
       "      <th>5</th>\n",
       "      <td>MEADOW HALL DR</td>\n",
       "      <td>Municipality</td>\n",
       "      <td>MEADOW_HALL_DR_Municipality</td>\n",
       "    </tr>\n",
       "    <tr>\n",
       "      <th>6</th>\n",
       "      <td>LAKEVIEW DR</td>\n",
       "      <td>Other Public Roadway</td>\n",
       "      <td>LAKEVIEW_DR_Other</td>\n",
       "    </tr>\n",
       "  </tbody>\n",
       "</table>\n",
       "</div>"
      ],
      "text/plain": [
       "         RoadName             RouteType                      RoadKey\n",
       "0         UNKNOWN               UNKNOWN              UNKNOWN_UNKNOWN\n",
       "3      BEL PRE RD                County            BEL_PRE_RD_County\n",
       "4  OLD HUNDRED RD      Maryland (State)      OLD_HUNDRED_RD_Maryland\n",
       "5  MEADOW HALL DR          Municipality  MEADOW_HALL_DR_Municipality\n",
       "6     LAKEVIEW DR  Other Public Roadway            LAKEVIEW_DR_Other"
      ]
     },
     "execution_count": 224,
     "metadata": {},
     "output_type": "execute_result"
    }
   ],
   "source": [
    "road_dim.head()"
   ]
  },
  {
   "cell_type": "markdown",
   "id": "5fa45658-7c7a-4e32-b549-e21cf5c0ea4e",
   "metadata": {},
   "source": [
    "## Non motorists data"
   ]
  },
  {
   "cell_type": "code",
   "execution_count": 240,
   "id": "d1759aab-b712-4f15-9426-eba5b780ed42",
   "metadata": {},
   "outputs": [],
   "source": [
    "nonmoto_raw = pd.read_csv(\"../data/montgomery_nonmotorist.csv\")"
   ]
  },
  {
   "cell_type": "code",
   "execution_count": 243,
   "id": "eed99e5d-ca47-497a-9382-df38da30d371",
   "metadata": {},
   "outputs": [
    {
     "data": {
      "text/plain": [
       "Injury Severity\n",
       "SUSPECTED MINOR INJURY      2478\n",
       "POSSIBLE INJURY             1860\n",
       "SUSPECTED SERIOUS INJURY     631\n",
       "NO APPARENT INJURY           558\n",
       "FATAL INJURY                 123\n",
       "Name: count, dtype: int64"
      ]
     },
     "execution_count": 243,
     "metadata": {},
     "output_type": "execute_result"
    }
   ],
   "source": [
    "describe(nonmoto_raw['Injury Severity'])"
   ]
  },
  {
   "cell_type": "code",
   "execution_count": 257,
   "id": "5d2bf027-c1e5-438e-9122-ee76c8318487",
   "metadata": {},
   "outputs": [],
   "source": [
    "def prepare_nonmoto_data(data):\n",
    "    data = data[['Report Number', 'Injury Severity']]\n",
    "    data.columns = ['ReportNumber', 'InjurySeverity']\n",
    "    data = data.astype(str)\n",
    "    return data"
   ]
  },
  {
   "cell_type": "code",
   "execution_count": 254,
   "id": "1865b876-886a-4eb8-b577-eba50e3d5179",
   "metadata": {},
   "outputs": [],
   "source": [
    "def classify_injury(string):\n",
    "    words = string.lower().split(' ')\n",
    "    if 'fatal' in words:\n",
    "        return 'Fatal'\n",
    "    elif 'no' in words:\n",
    "        return 'No injury'\n",
    "    elif 'injury' in words:\n",
    "        return 'Injury'\n",
    "    else:\n",
    "        return 'No injury'"
   ]
  },
  {
   "cell_type": "code",
   "execution_count": 258,
   "id": "17a65ad0-266a-4f87-8a3a-69bb0883f9e3",
   "metadata": {},
   "outputs": [],
   "source": [
    "nonmoto = prepare_nonmoto_data(nonmoto_raw)"
   ]
  },
  {
   "cell_type": "code",
   "execution_count": 259,
   "id": "2e93656c-94ce-4b0a-b928-9ecde555c461",
   "metadata": {},
   "outputs": [],
   "source": [
    "nonmoto['InjurySeverity'] = nonmoto['InjurySeverity'].apply(classify_injury)"
   ]
  },
  {
   "cell_type": "code",
   "execution_count": 261,
   "id": "40067686-e7b1-4814-a0d2-9b1bf1ea2486",
   "metadata": {},
   "outputs": [],
   "source": [
    "nonmoto['Fatal'] = nonmoto['InjurySeverity'].apply(lambda x: 1 if x == 'Fatal' else 0)\n",
    "nonmoto['Injury'] = nonmoto['InjurySeverity'].apply(lambda x: 1 if x == 'Injury' else 0)"
   ]
  },
  {
   "cell_type": "code",
   "execution_count": 268,
   "id": "7f6f3b79-085d-4fbc-9880-4333b41d6708",
   "metadata": {},
   "outputs": [],
   "source": [
    "nonmoto_agg = nonmoto.groupby('ReportNumber').agg(\n",
    "    NonMotoristTotal=pd.NamedAgg('InjurySeverity', 'count'),\n",
    "    NonMotoristInjury=pd.NamedAgg('Injury', 'sum'),\n",
    "    NonMotoristFatal=pd.NamedAgg('Fatal', 'sum')).reset_index()"
   ]
  },
  {
   "cell_type": "markdown",
   "id": "16d19ade-351c-4837-9ad9-65aea1511e66",
   "metadata": {},
   "source": [
    "## Joining tables"
   ]
  },
  {
   "cell_type": "code",
   "execution_count": 220,
   "id": "1c44888b-4249-497e-bafa-3f7f9403d545",
   "metadata": {},
   "outputs": [
    {
     "data": {
      "text/plain": [
       "Index(['ReportNumber', 'LocalCaseNumber', 'AgencyName', 'ACRSReportType',\n",
       "       'Datetime', 'HitRun', 'RouteType', 'LaneDirection', 'LaneNumber',\n",
       "       'NumberOfLanes', 'RoadGrade', 'NonTraffic', 'RoadName',\n",
       "       'CrossStreetType', 'CrossStreetName', 'OffRoadIncident',\n",
       "       'AccidentAtFault', 'CollisionType', 'SurfaceCondition', 'Light',\n",
       "       'TrafficControl', 'Junction', 'IntersectionType', 'RoadAlignment',\n",
       "       'RoadCondition', 'RoadDivision', 'Latitude', 'Longitude'],\n",
       "      dtype='object')"
      ]
     },
     "execution_count": 220,
     "metadata": {},
     "output_type": "execute_result"
    }
   ],
   "source": [
    "crashes.columns"
   ]
  },
  {
   "cell_type": "code",
   "execution_count": 229,
   "id": "c14c3f46-0385-41a0-9a37-e87dc46d2177",
   "metadata": {},
   "outputs": [],
   "source": [
    "crashes_joined = crashes.copy()\n",
    "crashes_joined['RoadKey'] = generate_roaddim_key(crashes['RoadName'], crashes['RouteType'])\n",
    "crashes_joined['CrossStreetKey'] = generate_roaddim_key(crashes['CrossStreetName'], crashes['CrossStreetType'])\n",
    "crashes_joined.drop(['RoadName', 'RouteType', 'CrossStreetName', 'CrossStreetType'], axis=1, inplace=True)"
   ]
  },
  {
   "cell_type": "code",
   "execution_count": 277,
   "id": "0a3a4cab-637c-449a-983b-230c17811a5e",
   "metadata": {},
   "outputs": [],
   "source": [
    "crashes_nonmoto = crashes_joined.merge(nonmoto_agg, how='left', on='ReportNumber')\n",
    "crashes_nonmoto[[\"NonMotoristTotal\", \"NonMotoristInjury\", \"NonMotoristFatal\"]] = crashes_nonmoto[[\"NonMotoristTotal\", \"NonMotoristInjury\", \"NonMotoristFatal\"]].fillna(0).astype(int)"
   ]
  }
 ],
 "metadata": {
  "kernelspec": {
   "display_name": "Python 3 (ipykernel)",
   "language": "python",
   "name": "python3"
  },
  "language_info": {
   "codemirror_mode": {
    "name": "ipython",
    "version": 3
   },
   "file_extension": ".py",
   "mimetype": "text/x-python",
   "name": "python",
   "nbconvert_exporter": "python",
   "pygments_lexer": "ipython3",
   "version": "3.11.7"
  }
 },
 "nbformat": 4,
 "nbformat_minor": 5
}
