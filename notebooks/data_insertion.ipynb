{
 "cells": [
  {
   "cell_type": "code",
   "execution_count": 2,
   "id": "d3b828ca",
   "metadata": {},
   "outputs": [],
   "source": [
    "import pyodbc\n",
    "import pandas as pd"
   ]
  },
  {
   "cell_type": "code",
   "execution_count": 181,
   "id": "dadbf0c0",
   "metadata": {},
   "outputs": [],
   "source": [
    "drivers = pd.read_csv(\"../data/etl_out/VehicleCrashFact.csv\")\n",
    "roaddim = pd.read_csv(\"../data/etl_out/RoadDim.csv\")\n",
    "vehicles = pd.read_csv(\"../data/etl_out/VehicleDim.csv\")\n",
    "location = pd.read_csv(\"../data/etl_out/LocationAreaDim.csv\")\n",
    "weather = pd.read_csv(\"../data/etl_out/WeatherFact.csv\")\n",
    "datehour = pd.read_csv(\"../data/etl_out/DateHourDim.csv\")"
   ]
  },
  {
   "cell_type": "code",
   "execution_count": 146,
   "id": "0758b643",
   "metadata": {},
   "outputs": [
    {
     "name": "stdout",
     "output_type": "stream",
     "text": [
      "drivers 0\n",
      "roaddim 0\n",
      "vehicles 0\n",
      "location 0\n",
      "weather 0\n",
      "datehour 0\n"
     ]
    }
   ],
   "source": [
    "names = ['drivers', 'roaddim', 'vehicles', 'location', 'weather', 'datehour']\n",
    "tables = [drivers, roaddim, vehicles, location, weather, datehour]\n",
    "for name, table in zip(names, tables):\n",
    "    rows_with_na = table[table.isna().any(axis=1)]\n",
    "    print(name, len(rows_with_na))"
   ]
  },
  {
   "cell_type": "code",
   "execution_count": 147,
   "id": "c6be18a6",
   "metadata": {},
   "outputs": [],
   "source": [
    "DRIVER_NAME = 'SQL SERVER'\n",
    "SERVER_NAME = 'WAW-2AT9QIDXNUV'\n",
    "DATABASE_NAME = 'vehicle_crashes_dwh_clone'\n",
    "\n",
    "connection_string = f\"\"\"\n",
    "    DRIVER={{{DRIVER_NAME}}};\n",
    "    SERVER={{{SERVER_NAME}}};\n",
    "    DATABASE={{{DATABASE_NAME}}};\n",
    "    Trust_Connection=yes;\n",
    "    uid=tymek;\n",
    "    pwd=password;\n",
    "\"\"\""
   ]
  },
  {
   "cell_type": "code",
   "execution_count": 149,
   "id": "b67a8873",
   "metadata": {},
   "outputs": [
    {
     "name": "stdout",
     "output_type": "stream",
     "text": [
      "Connection succesful: <pyodbc.Connection object at 0x000001FAB4BF6A70>\n"
     ]
    }
   ],
   "source": [
    "try:\n",
    "    conn = pyodbc.connect(connection_string)\n",
    "    print('Connection succesful:', conn)\n",
    "except Exception as e:\n",
    "    print(e)"
   ]
  },
  {
   "cell_type": "code",
   "execution_count": 150,
   "id": "205c5c75",
   "metadata": {},
   "outputs": [],
   "source": [
    "def test_connection(conn):\n",
    "    cursor = conn.cursor()\n",
    "    query = \"SELECT @@SERVERNAME\"\n",
    "    cursor.execute(query)\n",
    "    rows = cursor.fetchall()\n",
    "    return rows[0]"
   ]
  },
  {
   "cell_type": "code",
   "execution_count": 151,
   "id": "e120f9bb",
   "metadata": {},
   "outputs": [
    {
     "data": {
      "text/plain": [
       "('WAW-2AT9QIDXNUV', )"
      ]
     },
     "execution_count": 151,
     "metadata": {},
     "output_type": "execute_result"
    }
   ],
   "source": [
    "test_connection(conn)"
   ]
  },
  {
   "cell_type": "code",
   "execution_count": 152,
   "id": "3c795125",
   "metadata": {},
   "outputs": [],
   "source": [
    "# conn.close()"
   ]
  },
  {
   "cell_type": "markdown",
   "id": "bae24347",
   "metadata": {},
   "source": [
    "### RoadDim"
   ]
  },
  {
   "cell_type": "code",
   "execution_count": 96,
   "id": "66ab8d1a",
   "metadata": {},
   "outputs": [],
   "source": [
    "insert_road_dim = \"\"\"\n",
    "BEGIN TRY\n",
    "    INSERT INTO RoadDim (RoadName, RouteType, RoadKey) \n",
    "    VALUES (?, ?, ?);\n",
    "END TRY\n",
    "BEGIN CATCH\n",
    "    IF ERROR_NUMBER() = 2601 OR ERROR_NUMBER() = 2627  -- Duplicate key violation error numbers\n",
    "    BEGIN\n",
    "        PRINT 'Duplicate key, skipping row'\n",
    "    END\n",
    "    ELSE\n",
    "    BEGIN\n",
    "        THROW;\n",
    "    END\n",
    "END CATCH\n",
    "\"\"\"\n",
    "\n",
    "cursor = conn.cursor()\n",
    "\n",
    "for index, row in roaddim.iterrows():\n",
    "    try:\n",
    "        cursor.execute(insert_road_dim, row['RoadName'], row['RouteType'], row['RoadKey'])\n",
    "    except Exception as e:\n",
    "        print(\"An error occurred:\", e)\n",
    "        print(row)\n",
    "        break\n",
    "\n",
    "conn.commit()\n",
    "cursor.close()"
   ]
  },
  {
   "cell_type": "markdown",
   "id": "34706500",
   "metadata": {},
   "source": [
    "### VehicleDim"
   ]
  },
  {
   "cell_type": "code",
   "execution_count": 98,
   "id": "238ac6d4",
   "metadata": {},
   "outputs": [],
   "source": [
    "insert_vehicle_dim = \"\"\"\n",
    "BEGIN TRY\n",
    "    INSERT INTO VehicleDim (Make, Year, BaseModel, VehicleKey, BodyClass, Cylinders, Displacement, Transmission, Drivetrain, FuelType, CityMPG, HighwayMPG) \n",
    "    VALUES (?, ?, ?, ?, ?, ?, ?, ?, ?, ?, ?, ?);\n",
    "END TRY\n",
    "BEGIN CATCH\n",
    "    IF ERROR_NUMBER() = 2601 OR ERROR_NUMBER() = 2627  -- Duplicate key violation error numbers\n",
    "    BEGIN\n",
    "        PRINT 'Duplicate key, skipping row'\n",
    "    END\n",
    "    ELSE\n",
    "    BEGIN\n",
    "        THROW;\n",
    "    END\n",
    "END CATCH\n",
    "\"\"\"\n",
    "\n",
    "cursor = conn.cursor()\n",
    "\n",
    "for index, row in vehicles.iterrows():\n",
    "    try:\n",
    "        cursor.execute(insert_vehicle_dim, \n",
    "                       row['Make'], \n",
    "                       row['Year'], \n",
    "                       row['BaseModel'], \n",
    "                       row['VehicleKey'], \n",
    "                       row['BodyClass'], \n",
    "                       row['Cylinders'], \n",
    "                       row['Displacement'], \n",
    "                       row['Transmission'], \n",
    "                       row['Drivetrain'], \n",
    "                       row['FuelType'], \n",
    "                       row['CityMPG'], \n",
    "                       row['HighwayMPG'])\n",
    "    except Exception as e:\n",
    "        print(\"An error occurred:\", e)\n",
    "        print(row)\n",
    "        break\n",
    "\n",
    "conn.commit()\n",
    "cursor.close()"
   ]
  },
  {
   "cell_type": "markdown",
   "id": "b5f48c7f",
   "metadata": {},
   "source": [
    "### DateHourDim"
   ]
  },
  {
   "cell_type": "code",
   "execution_count": 100,
   "id": "b946a036",
   "metadata": {},
   "outputs": [
    {
     "data": {
      "text/plain": [
       "Index(['Datetime', 'DateHourKey', 'Hour', 'TimeOfDay', 'DayNumber',\n",
       "       'WeekDayNumber', 'WeekDayName', 'WeekendFlag', 'MonthNumber',\n",
       "       'MonthName', 'Year', 'HolidayFlag', 'HolidayName'],\n",
       "      dtype='object')"
      ]
     },
     "execution_count": 100,
     "metadata": {},
     "output_type": "execute_result"
    }
   ],
   "source": [
    "datehour.columns"
   ]
  },
  {
   "cell_type": "code",
   "execution_count": 153,
   "id": "027f1b44",
   "metadata": {},
   "outputs": [],
   "source": [
    "insert_time_dim = \"\"\"\n",
    "BEGIN TRY\n",
    "    INSERT INTO DateHourDim (Datetime, DateHourKey, Hour, TimeOfDay, DayNumber, WeekDayNumber, WeekDayName, WeekendFlag, MonthNumber, MonthName, Year, HolidayFlag, HolidayName) \n",
    "    VALUES (?, ?, ?, ?, ?, ?, ?, ?, ?, ?, ?, ?, ?);\n",
    "END TRY\n",
    "BEGIN CATCH\n",
    "    IF ERROR_NUMBER() = 2601 OR ERROR_NUMBER() = 2627  -- Duplicate key violation error numbers\n",
    "    BEGIN\n",
    "        PRINT 'Duplicate key, skipping row'\n",
    "    END\n",
    "    ELSE\n",
    "    BEGIN\n",
    "        THROW;\n",
    "    END\n",
    "END CATCH\n",
    "\"\"\"\n",
    "\n",
    "cursor = conn.cursor()\n",
    "\n",
    "for index, row in datehour.iterrows():\n",
    "    try:\n",
    "        cursor.execute(insert_time_dim, \n",
    "                       row['Datetime'], \n",
    "                       row['DateHourKey'], \n",
    "                       row['Hour'], \n",
    "                       row['TimeOfDay'], \n",
    "                       row['DayNumber'], \n",
    "                       row['WeekDayNumber'], \n",
    "                       row['WeekDayName'], \n",
    "                       row['WeekendFlag'], \n",
    "                       row['MonthNumber'], \n",
    "                       row['MonthName'], \n",
    "                       row['Year'], \n",
    "                       row['HolidayFlag'], \n",
    "                       row['HolidayName'])\n",
    "    except Exception as e:\n",
    "        print(\"An error occurred:\", e)\n",
    "        print(row)\n",
    "        break\n",
    "\n",
    "conn.commit()\n",
    "cursor.close()"
   ]
  },
  {
   "cell_type": "markdown",
   "id": "a55876be",
   "metadata": {},
   "source": [
    "### LocationAreaDim"
   ]
  },
  {
   "cell_type": "code",
   "execution_count": 106,
   "id": "5baf1bcb",
   "metadata": {},
   "outputs": [],
   "source": [
    "insert_location_dim = \"\"\"\n",
    "BEGIN TRY\n",
    "    INSERT INTO LocationAreaDim (LocationAreaKey, Zipcode, MailCity, ShapeLength, ShapeArea, CentroidLatitude, CentroidLongitude) \n",
    "    VALUES (?, ?, ?, ?, ?, ?, ?);\n",
    "END TRY\n",
    "BEGIN CATCH\n",
    "    IF ERROR_NUMBER() = 2601 OR ERROR_NUMBER() = 2627  -- Duplicate key violation error numbers\n",
    "    BEGIN\n",
    "        PRINT 'Duplicate key, skipping row'\n",
    "    END\n",
    "    ELSE\n",
    "    BEGIN\n",
    "        THROW;\n",
    "    END\n",
    "END CATCH\n",
    "\"\"\"\n",
    "\n",
    "cursor = conn.cursor()\n",
    "\n",
    "for index, row in location.iterrows():\n",
    "    try:\n",
    "        cursor.execute(insert_location_dim, \n",
    "                       row['LocationAreaKey'], \n",
    "                       row['Zipcode'], \n",
    "                       row['MailCity'], \n",
    "                       row['ShapeLength'], \n",
    "                       row['ShapeArea'], \n",
    "                       row['CentroidLatitude'], \n",
    "                       row['CentroidLongitude'])\n",
    "    except Exception as e:\n",
    "        print(\"An error occurred:\", e)\n",
    "        print(row)\n",
    "        break\n",
    "\n",
    "conn.commit()\n",
    "cursor.close()"
   ]
  },
  {
   "cell_type": "markdown",
   "id": "e7002f4d",
   "metadata": {},
   "source": [
    "### WeatherFact"
   ]
  },
  {
   "cell_type": "code",
   "execution_count": 121,
   "id": "42566cc8",
   "metadata": {},
   "outputs": [],
   "source": [
    "pd.set_option('display.float_format', lambda x: '%.3f' % x)"
   ]
  },
  {
   "cell_type": "code",
   "execution_count": 182,
   "id": "af56e87e",
   "metadata": {},
   "outputs": [],
   "source": [
    "weather['WeatherKey'] = weather['WeatherKey'].astype(str)\n",
    "weather['LocationAreaKey'] = weather['LocationAreaKey'].astype(str)\n",
    "weather['DateHourKey'] = weather['DateHourKey'].astype(str)"
   ]
  },
  {
   "cell_type": "code",
   "execution_count": 185,
   "id": "7e4e3357",
   "metadata": {},
   "outputs": [],
   "source": [
    "insert_weather_fact = \"\"\"\n",
    "BEGIN TRY\n",
    "    INSERT INTO WeatherFact (Temperature, Humidity, Precipitation, Rain, Snow, WindSpeed, WindDirection, LocationAreaKey, DateHourKey, WeatherKey) \n",
    "    VALUES (?, ?, ?, ?, ?, ?, ?, ?, ?, ?);\n",
    "END TRY\n",
    "BEGIN CATCH\n",
    "    IF ERROR_NUMBER() = 2601 OR ERROR_NUMBER() = 2627  -- Duplicate key violation error numbers\n",
    "    BEGIN\n",
    "        PRINT 'Duplicate key, skipping row'\n",
    "    END\n",
    "    ELSE\n",
    "    BEGIN\n",
    "        THROW;\n",
    "    END\n",
    "END CATCH\n",
    "\"\"\"\n",
    "\n",
    "# insert_weather_fact = \"\"\"\n",
    "#     INSERT INTO WeatherFact (Temperature, Humidity, Precipitation, Rain, Snow, WindSpeed, WindDirection, LocationAreaKey, DateHourKey, WeatherKey) \n",
    "#     VALUES (?, ?, ?, ?, ?, ?, ?, ?, ?, ?);\n",
    "# \"\"\"\n",
    "\n",
    "cursor = conn.cursor()\n",
    "\n",
    "for index, row in weather.iterrows():\n",
    "    try:\n",
    "        cursor.execute(insert_weather_fact, \n",
    "                       row['Temperature'], \n",
    "                       row['Humidity'], \n",
    "                       row['Precipitation'], \n",
    "                       row['Rain'], \n",
    "                       row['Snow'], \n",
    "                       row['WindSpeed'], \n",
    "                       row['WindDirection'], \n",
    "                       row['LocationAreaKey'], \n",
    "                       row['DateHourKey'], \n",
    "                       row['WeatherKey'])\n",
    "    except Exception as e:\n",
    "        print(\"An error occurred:\", e)\n",
    "        print(row)\n",
    "        break\n",
    "\n",
    "conn.commit()\n",
    "cursor.close()\n"
   ]
  },
  {
   "cell_type": "code",
   "execution_count": 186,
   "id": "e41d336b",
   "metadata": {},
   "outputs": [
    {
     "data": {
      "text/plain": [
       "Index(['ReportNumber', 'VehicleCrashKey', 'DriverAtFault',\n",
       "       'DriverInjurySeverity', 'DriverSubstanceAbuse', 'DriverDistractedBy',\n",
       "       'VehicleType', 'VehicleMovement', 'VehicleGoingDir',\n",
       "       'VehicleDamageExtent', 'SpeedLimit', 'ParkedVehicle',\n",
       "       'SubstanceAbuseContributed', 'VehiclesCrashedTotal', 'VehicleKey',\n",
       "       'LocalCaseNumber', 'AgencyName', 'ACRSReportType', 'HitRun',\n",
       "       'LaneDirection', 'LaneNumber', 'NumberOfLanes', 'RoadGrade',\n",
       "       'NonTraffic', 'OffRoadIncident', 'AccidentAtFault', 'CollisionType',\n",
       "       'SurfaceCondition', 'Light', 'TrafficControl', 'Junction',\n",
       "       'IntersectionType', 'RoadAlignment', 'RoadCondition', 'RoadDivision',\n",
       "       'Latitude', 'Longitude', 'RoadKey', 'CrossStreetKey',\n",
       "       'NonMotoristTotal', 'NonMotoristInjury', 'NonMotoristFatal',\n",
       "       'DateHourKey', 'LocationAreaKey'],\n",
       "      dtype='object')"
      ]
     },
     "execution_count": 186,
     "metadata": {},
     "output_type": "execute_result"
    }
   ],
   "source": [
    "drivers.columns"
   ]
  },
  {
   "cell_type": "code",
   "execution_count": 191,
   "id": "d164b135",
   "metadata": {},
   "outputs": [],
   "source": [
    "insert_query = \"\"\"\n",
    "INSERT INTO VehicleCrashFact (\n",
    "    ReportNumber, VehicleCrashKey, DriverAtFault, DriverInjurySeverity, DriverSubstanceAbuse,\n",
    "    DriverDistractedBy, VehicleType, VehicleMovement, VehicleGoingDir, VehicleDamageExtent,\n",
    "    SpeedLimit, ParkedVehicle, SubstanceAbuseContributed, VehiclesCrashedTotal, VehicleKey,\n",
    "    LocalCaseNumber, AgencyName, ACRSReportType, HitRun, LaneDirection, LaneNumber,\n",
    "    NumberOfLanes, RoadGrade, NonTraffic, OffRoadIncident, AccidentAtFault, CollisionType,\n",
    "    SurfaceCondition, Light, TrafficControl, Junction, IntersectionType, RoadAlignment,\n",
    "    RoadCondition, RoadDivision, Latitude, Longitude, RoadKey, CrossStreetKey,\n",
    "    NonMotoristTotal, NonMotoristInjury, NonMotoristFatal, DateHourKey, LocationAreaKey\n",
    ") VALUES (?, ?, ?, ?, ?, ?, ?, ?, ?, ?, ?, ?, ?, ?, ?, ?, ?, ?, ?, ?, ?, ?, ?, ?, ?, ?, ?, ?, ?, ?, ?, ?, ?, ?, ?, ?, ?, ?, ?, ?, ?, ?, ?, ?)\n",
    "\"\"\"\n",
    "\n",
    "\n",
    "cursor = conn.cursor()\n",
    "\n",
    "# Insert each row from the DataFrame into the database table\n",
    "for index, row in drivers.iterrows():\n",
    "    try:\n",
    "        cursor.execute(insert_query, \n",
    "                       row['ReportNumber'],\n",
    "                       row['VehicleCrashKey'],\n",
    "                       row['DriverAtFault'],\n",
    "                       row['DriverInjurySeverity'],\n",
    "                       row['DriverSubstanceAbuse'],\n",
    "                       row['DriverDistractedBy'],\n",
    "                       row['VehicleType'],\n",
    "                       row['VehicleMovement'],\n",
    "                       row['VehicleGoingDir'],\n",
    "                       row['VehicleDamageExtent'],\n",
    "                       row['SpeedLimit'],\n",
    "                       row['ParkedVehicle'],\n",
    "                       row['SubstanceAbuseContributed'],\n",
    "                       row['VehiclesCrashedTotal'],\n",
    "                       row['VehicleKey'],\n",
    "                       row['LocalCaseNumber'],\n",
    "                       row['AgencyName'],\n",
    "                       row['ACRSReportType'],\n",
    "                       row['HitRun'],\n",
    "                       row['LaneDirection'],\n",
    "                       row['LaneNumber'],\n",
    "                       row['NumberOfLanes'],\n",
    "                       row['RoadGrade'],\n",
    "                       row['NonTraffic'],\n",
    "                       row['OffRoadIncident'],\n",
    "                       row['AccidentAtFault'],\n",
    "                       row['CollisionType'],\n",
    "                       row['SurfaceCondition'],\n",
    "                       row['Light'],\n",
    "                       row['TrafficControl'],\n",
    "                       row['Junction'],\n",
    "                       row['IntersectionType'],\n",
    "                       row['RoadAlignment'],\n",
    "                       row['RoadCondition'],\n",
    "                       row['RoadDivision'],\n",
    "                       row['Latitude'],\n",
    "                       row['Longitude'],\n",
    "                       row['RoadKey'],\n",
    "                       row['CrossStreetKey'],\n",
    "                       row['NonMotoristTotal'],\n",
    "                       row['NonMotoristInjury'],\n",
    "                       row['NonMotoristFatal'],\n",
    "                       row['DateHourKey'],\n",
    "                       row['LocationAreaKey'])    \n",
    "    except Exception as e:\n",
    "        print(\"An error occurred:\", e)\n",
    "        print(row)\n",
    "        break\n",
    "\n",
    "# Commit the transaction\n",
    "conn.commit()\n",
    "\n",
    "# Close the connection\n",
    "cursor.close()"
   ]
  }
 ],
 "metadata": {
  "kernelspec": {
   "display_name": "Python 3 (ipykernel)",
   "language": "python",
   "name": "python3"
  },
  "language_info": {
   "codemirror_mode": {
    "name": "ipython",
    "version": 3
   },
   "file_extension": ".py",
   "mimetype": "text/x-python",
   "name": "python",
   "nbconvert_exporter": "python",
   "pygments_lexer": "ipython3",
   "version": "3.11.5"
  }
 },
 "nbformat": 4,
 "nbformat_minor": 5
}
