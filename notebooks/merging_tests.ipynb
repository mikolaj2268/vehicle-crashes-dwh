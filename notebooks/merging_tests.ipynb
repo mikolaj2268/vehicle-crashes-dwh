{
 "cells": [
  {
   "cell_type": "code",
   "execution_count": 1,
   "id": "381a6b6c-6ded-45a0-ae5f-8c4c2a5c486f",
   "metadata": {},
   "outputs": [],
   "source": [
    "import pandas as pd"
   ]
  },
  {
   "cell_type": "code",
   "execution_count": 2,
   "id": "52dd8618-1683-4916-8d61-c8930720cdee",
   "metadata": {},
   "outputs": [],
   "source": [
    "crashes = pd.read_csv(\"../data/dwh/CrashesFact.csv\")\n",
    "drivers = pd.read_csv(\"../data/dwh/DriversFact.csv\")\n",
    "roaddim = pd.read_csv(\"../data/dwh/RoadDim.csv\")\n",
    "vehicles = pd.read_csv(\"../data/dwh/VehicleDim.csv\")"
   ]
  },
  {
   "cell_type": "code",
   "execution_count": 9,
   "id": "dd5ab17f-d8aa-4ce6-81ec-98604e4f9b08",
   "metadata": {},
   "outputs": [
    {
     "data": {
      "text/plain": [
       "172105"
      ]
     },
     "execution_count": 9,
     "metadata": {},
     "output_type": "execute_result"
    }
   ],
   "source": [
    "len(drivers)"
   ]
  },
  {
   "cell_type": "code",
   "execution_count": 4,
   "id": "96c52597-c2b6-427f-80c5-9ce250d73065",
   "metadata": {},
   "outputs": [],
   "source": [
    "fact_merged = drivers.merge(crashes, on='ReportNumber')"
   ]
  },
  {
   "cell_type": "code",
   "execution_count": 15,
   "id": "1d8653a4",
   "metadata": {},
   "outputs": [
    {
     "data": {
      "text/plain": [
       "'2023'"
      ]
     },
     "execution_count": 15,
     "metadata": {},
     "output_type": "execute_result"
    }
   ],
   "source": [
    "'2023325234'[:4]"
   ]
  },
  {
   "cell_type": "code",
   "execution_count": 17,
   "id": "99857d38",
   "metadata": {},
   "outputs": [
    {
     "data": {
      "text/plain": [
       "0         2024010314\n",
       "1         2024010314\n",
       "2         2023121612\n",
       "3         2023122912\n",
       "4         2023122912\n",
       "             ...    \n",
       "172100    2015070511\n",
       "172101    2020091217\n",
       "172102    2021070117\n",
       "172103    2022111102\n",
       "172104    2022121509\n",
       "Name: DateHourKey, Length: 172105, dtype: int64"
      ]
     },
     "execution_count": 17,
     "metadata": {},
     "output_type": "execute_result"
    }
   ],
   "source": [
    "fact_merged['DateHourKey']"
   ]
  },
  {
   "cell_type": "code",
   "execution_count": 16,
   "id": "8c4f55f5",
   "metadata": {},
   "outputs": [
    {
     "data": {
      "text/html": [
       "<div>\n",
       "<style scoped>\n",
       "    .dataframe tbody tr th:only-of-type {\n",
       "        vertical-align: middle;\n",
       "    }\n",
       "\n",
       "    .dataframe tbody tr th {\n",
       "        vertical-align: top;\n",
       "    }\n",
       "\n",
       "    .dataframe thead th {\n",
       "        text-align: right;\n",
       "    }\n",
       "</style>\n",
       "<table border=\"1\" class=\"dataframe\">\n",
       "  <thead>\n",
       "    <tr style=\"text-align: right;\">\n",
       "      <th></th>\n",
       "      <th>ReportNumber</th>\n",
       "      <th>VehicleCrashKey</th>\n",
       "      <th>DriverAtFault</th>\n",
       "      <th>DriverInjurySeverity</th>\n",
       "      <th>DriverSubstanceAbuse</th>\n",
       "      <th>DriverDistractedBy</th>\n",
       "      <th>VehicleType</th>\n",
       "      <th>VehicleMovement</th>\n",
       "      <th>VehicleGoingDir</th>\n",
       "      <th>VehicleDamageExtent</th>\n",
       "      <th>...</th>\n",
       "      <th>RoadDivision</th>\n",
       "      <th>Latitude</th>\n",
       "      <th>Longitude</th>\n",
       "      <th>RoadKey</th>\n",
       "      <th>CrossStreetKey</th>\n",
       "      <th>NonMotoristTotal</th>\n",
       "      <th>NonMotoristInjury</th>\n",
       "      <th>NonMotoristFatal</th>\n",
       "      <th>DateHourKey</th>\n",
       "      <th>LocationAreaKey</th>\n",
       "    </tr>\n",
       "  </thead>\n",
       "  <tbody>\n",
       "  </tbody>\n",
       "</table>\n",
       "<p>0 rows × 44 columns</p>\n",
       "</div>"
      ],
      "text/plain": [
       "Empty DataFrame\n",
       "Columns: [ReportNumber, VehicleCrashKey, DriverAtFault, DriverInjurySeverity, DriverSubstanceAbuse, DriverDistractedBy, VehicleType, VehicleMovement, VehicleGoingDir, VehicleDamageExtent, SpeedLimit, ParkedVehicle, SubstanceAbuseContributed, VehicleKey, VehiclesCrashedTotal, LocalCaseNumber, AgencyName, ACRSReportType, HitRun, LaneDirection, LaneNumber, NumberOfLanes, RoadGrade, NonTraffic, OffRoadIncident, AccidentAtFault, CollisionType, SurfaceCondition, Light, TrafficControl, Junction, IntersectionType, RoadAlignment, RoadCondition, RoadDivision, Latitude, Longitude, RoadKey, CrossStreetKey, NonMotoristTotal, NonMotoristInjury, NonMotoristFatal, DateHourKey, LocationAreaKey]\n",
       "Index: []\n",
       "\n",
       "[0 rows x 44 columns]"
      ]
     },
     "execution_count": 16,
     "metadata": {},
     "output_type": "execute_result"
    }
   ],
   "source": [
    "fact_merged[fact_merged['DateHourKey'].astype(str).str[:4] == 2023]"
   ]
  },
  {
   "cell_type": "code",
   "execution_count": 5,
   "id": "cc0e76c6-ef25-4fd8-b905-235112c625ff",
   "metadata": {},
   "outputs": [
    {
     "data": {
      "text/plain": [
       "172105"
      ]
     },
     "execution_count": 5,
     "metadata": {},
     "output_type": "execute_result"
    }
   ],
   "source": [
    "len(fact_merged)"
   ]
  },
  {
   "cell_type": "code",
   "execution_count": 9,
   "id": "b308b8db-7fd4-4a3a-a4e0-f3c56a34dbd1",
   "metadata": {},
   "outputs": [],
   "source": [
    "fact_vehicles = fact_merged.merge(vehicles, on='VehicleKey')"
   ]
  },
  {
   "cell_type": "code",
   "execution_count": 10,
   "id": "c400973e-a72d-4ebb-8f53-a7b904598936",
   "metadata": {},
   "outputs": [
    {
     "data": {
      "text/plain": [
       "172105"
      ]
     },
     "execution_count": 10,
     "metadata": {},
     "output_type": "execute_result"
    }
   ],
   "source": [
    "len(fact_vehicles)"
   ]
  },
  {
   "cell_type": "code",
   "execution_count": 15,
   "id": "262f7066-6129-40b4-ab1f-dcd0e3a32e97",
   "metadata": {},
   "outputs": [],
   "source": [
    "all = fact_vehicles.merge(roaddim, left_on='RoadKey', right_on='RoadKey').merge(roaddim, left_on='CrossStreetKey', right_on='RoadKey')"
   ]
  },
  {
   "cell_type": "code",
   "execution_count": 16,
   "id": "82895d6d-3839-44fc-a873-5538274ec8d6",
   "metadata": {},
   "outputs": [
    {
     "data": {
      "text/plain": [
       "Index(['ReportNumber', 'VehicleID', 'DriverAtFault', 'InjurySeverity',\n",
       "       'DriverSubstanceAbuse', 'DriverDistractedBy', 'VehicleType',\n",
       "       'VehicleMovement', 'VehicleGoingDir', 'SpeedLimit', 'ParkedVehicle',\n",
       "       'SubstanceAbuseContributed', 'VehicleKey', 'LocalCaseNumber',\n",
       "       'AgencyName', 'ACRSReportType', 'Datetime', 'HitRun', 'LaneDirection',\n",
       "       'LaneNumber', 'NumberOfLanes', 'RoadGrade', 'NonTraffic',\n",
       "       'OffRoadIncident', 'AccidentAtFault', 'CollisionType',\n",
       "       'SurfaceCondition', 'Light', 'TrafficControl', 'Junction',\n",
       "       'IntersectionType', 'RoadAlignment', 'RoadCondition', 'RoadDivision',\n",
       "       'Latitude', 'Longitude', 'RoadKey_x', 'CrossStreetKey',\n",
       "       'NonMotoristTotal', 'NonMotoristInjury', 'NonMotoristFatal', 'Make',\n",
       "       'Year', 'BaseModel', 'BodyClass', 'Cylinders', 'Displacement',\n",
       "       'Transmission', 'Drivetrain', 'FuelType', 'CityMPG', 'HighwayMPG',\n",
       "       'RoadName_x', 'RouteType_x', 'RoadName_y', 'RouteType_y', 'RoadKey_y'],\n",
       "      dtype='object')"
      ]
     },
     "execution_count": 16,
     "metadata": {},
     "output_type": "execute_result"
    }
   ],
   "source": [
    "all.columns"
   ]
  },
  {
   "cell_type": "code",
   "execution_count": 17,
   "id": "f237aa78-76ca-41a3-ac2b-c79ff9a85eb3",
   "metadata": {},
   "outputs": [
    {
     "data": {
      "text/plain": [
       "172105"
      ]
     },
     "execution_count": 17,
     "metadata": {},
     "output_type": "execute_result"
    }
   ],
   "source": [
    "len(all)"
   ]
  }
 ],
 "metadata": {
  "kernelspec": {
   "display_name": "Python 3 (ipykernel)",
   "language": "python",
   "name": "python3"
  },
  "language_info": {
   "codemirror_mode": {
    "name": "ipython",
    "version": 3
   },
   "file_extension": ".py",
   "mimetype": "text/x-python",
   "name": "python",
   "nbconvert_exporter": "python",
   "pygments_lexer": "ipython3",
   "version": "3.11.5"
  }
 },
 "nbformat": 4,
 "nbformat_minor": 5
}
