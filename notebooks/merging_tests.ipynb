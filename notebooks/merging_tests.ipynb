{
 "cells": [
  {
   "cell_type": "code",
   "execution_count": 1,
   "id": "381a6b6c-6ded-45a0-ae5f-8c4c2a5c486f",
   "metadata": {},
   "outputs": [],
   "source": [
    "import pandas as pd"
   ]
  },
  {
   "cell_type": "code",
   "execution_count": 27,
   "id": "52dd8618-1683-4916-8d61-c8930720cdee",
   "metadata": {},
   "outputs": [],
   "source": [
    "crashes = pd.read_csv(\"../data/dwh/CrashesFact.csv\")\n",
    "drivers = pd.read_csv(\"../data/dwh/DriversFact.csv\")\n",
    "roaddim = pd.read_csv(\"../data/dwh/RoadDim.csv\")\n",
    "vehicles = pd.read_csv(\"../data/dwh/VehicleDim.csv\")\n",
    "location = pd.read_csv(\"../data/dwh/LocationAreaDim.csv\")"
   ]
  },
  {
   "cell_type": "code",
   "execution_count": 3,
   "id": "dd5ab17f-d8aa-4ce6-81ec-98604e4f9b08",
   "metadata": {},
   "outputs": [
    {
     "data": {
      "text/plain": [
       "172105"
      ]
     },
     "execution_count": 3,
     "metadata": {},
     "output_type": "execute_result"
    }
   ],
   "source": [
    "len(drivers)"
   ]
  },
  {
   "cell_type": "code",
   "execution_count": 17,
   "id": "96c52597-c2b6-427f-80c5-9ce250d73065",
   "metadata": {},
   "outputs": [],
   "source": [
    "fact_merged = drivers.merge(crashes, on='ReportNumber')"
   ]
  },
  {
   "cell_type": "code",
   "execution_count": 17,
   "id": "d09cf8a0",
   "metadata": {},
   "outputs": [
    {
     "data": {
      "text/plain": [
       "0         2024010314\n",
       "1         2024010314\n",
       "2         2023121612\n",
       "3         2023122912\n",
       "4         2023122912\n",
       "             ...    \n",
       "172100    2015070511\n",
       "172101    2020091217\n",
       "172102    2021070117\n",
       "172103    2022111102\n",
       "172104    2022121509\n",
       "Name: DateHourKey, Length: 172105, dtype: int64"
      ]
     },
     "execution_count": 17,
     "metadata": {},
     "output_type": "execute_result"
    }
   ],
   "source": [
    "fact_merged['DateHourKey']"
   ]
  },
  {
   "cell_type": "code",
   "execution_count": 21,
   "id": "e9f1e462",
   "metadata": {},
   "outputs": [],
   "source": [
    "# fact_merged['DateHourKey'] = fact_merged['DateHourKey'].astype(str)\n",
    "filtered_df = fact_merged[fact_merged['DateHourKey'].astype(str).str.startswith('2023')]"
   ]
  },
  {
   "cell_type": "code",
   "execution_count": 22,
   "id": "de287356",
   "metadata": {},
   "outputs": [
    {
     "data": {
      "text/plain": [
       "Index(['ReportNumber', 'VehicleCrashKey', 'DriverAtFault',\n",
       "       'DriverInjurySeverity', 'DriverSubstanceAbuse', 'DriverDistractedBy',\n",
       "       'VehicleType', 'VehicleMovement', 'VehicleGoingDir',\n",
       "       'VehicleDamageExtent', 'SpeedLimit', 'ParkedVehicle',\n",
       "       'SubstanceAbuseContributed', 'VehiclesCrashedTotal', 'VehicleKey',\n",
       "       'LocalCaseNumber', 'AgencyName', 'ACRSReportType', 'HitRun',\n",
       "       'LaneDirection', 'LaneNumber', 'NumberOfLanes', 'RoadGrade',\n",
       "       'NonTraffic', 'OffRoadIncident', 'AccidentAtFault', 'CollisionType',\n",
       "       'SurfaceCondition', 'Light', 'TrafficControl', 'Junction',\n",
       "       'IntersectionType', 'RoadAlignment', 'RoadCondition', 'RoadDivision',\n",
       "       'Latitude', 'Longitude', 'RoadKey', 'CrossStreetKey',\n",
       "       'NonMotoristTotal', 'NonMotoristInjury', 'NonMotoristFatal',\n",
       "       'DateHourKey', 'LocationAreaKey'],\n",
       "      dtype='object')"
      ]
     },
     "execution_count": 22,
     "metadata": {},
     "output_type": "execute_result"
    }
   ],
   "source": [
    "filtered_df.columns"
   ]
  },
  {
   "cell_type": "code",
   "execution_count": 7,
   "id": "e5c18135",
   "metadata": {},
   "outputs": [
    {
     "data": {
      "text/plain": [
       "NonMotoristFatal\n",
       "0    171975\n",
       "1       129\n",
       "2         1\n",
       "Name: count, dtype: int64"
      ]
     },
     "execution_count": 7,
     "metadata": {},
     "output_type": "execute_result"
    }
   ],
   "source": [
    "fact_merged['NonMotoristFatal'].value_counts(dropna=False)"
   ]
  },
  {
   "cell_type": "code",
   "execution_count": 23,
   "id": "4fff73c7",
   "metadata": {},
   "outputs": [],
   "source": [
    "filtered_df.to_csv(\"../data/dwh/VehicleCrashFact2023.csv\")"
   ]
  },
  {
   "cell_type": "code",
   "execution_count": 5,
   "id": "cc0e76c6-ef25-4fd8-b905-235112c625ff",
   "metadata": {},
   "outputs": [
    {
     "data": {
      "text/plain": [
       "172105"
      ]
     },
     "execution_count": 5,
     "metadata": {},
     "output_type": "execute_result"
    }
   ],
   "source": [
    "len(fact_merged)"
   ]
  },
  {
   "cell_type": "code",
   "execution_count": 18,
   "id": "b308b8db-7fd4-4a3a-a4e0-f3c56a34dbd1",
   "metadata": {},
   "outputs": [],
   "source": [
    "fact_vehicles = fact_merged.merge(vehicles, on='VehicleKey')"
   ]
  },
  {
   "cell_type": "code",
   "execution_count": 12,
   "id": "c400973e-a72d-4ebb-8f53-a7b904598936",
   "metadata": {},
   "outputs": [
    {
     "data": {
      "text/plain": [
       "172105"
      ]
     },
     "execution_count": 12,
     "metadata": {},
     "output_type": "execute_result"
    }
   ],
   "source": [
    "len(fact_vehicles)"
   ]
  },
  {
   "cell_type": "code",
   "execution_count": 19,
   "id": "262f7066-6129-40b4-ab1f-dcd0e3a32e97",
   "metadata": {},
   "outputs": [],
   "source": [
    "all = fact_vehicles.merge(roaddim, left_on='RoadKey', right_on='RoadKey').merge(roaddim, left_on='CrossStreetKey', right_on='RoadKey')"
   ]
  },
  {
   "cell_type": "code",
   "execution_count": 14,
   "id": "82895d6d-3839-44fc-a873-5538274ec8d6",
   "metadata": {},
   "outputs": [
    {
     "data": {
      "text/plain": [
       "Index(['ReportNumber', 'VehicleCrashKey', 'DriverAtFault',\n",
       "       'DriverInjurySeverity', 'DriverSubstanceAbuse', 'DriverDistractedBy',\n",
       "       'VehicleType', 'VehicleMovement', 'VehicleGoingDir',\n",
       "       'VehicleDamageExtent', 'SpeedLimit', 'ParkedVehicle',\n",
       "       'SubstanceAbuseContributed', 'VehiclesCrashedTotal', 'VehicleKey',\n",
       "       'LocalCaseNumber', 'AgencyName', 'ACRSReportType', 'HitRun',\n",
       "       'LaneDirection', 'LaneNumber', 'NumberOfLanes', 'RoadGrade',\n",
       "       'NonTraffic', 'OffRoadIncident', 'AccidentAtFault', 'CollisionType',\n",
       "       'SurfaceCondition', 'Light', 'TrafficControl', 'Junction',\n",
       "       'IntersectionType', 'RoadAlignment', 'RoadCondition', 'RoadDivision',\n",
       "       'Latitude', 'Longitude', 'RoadKey_x', 'CrossStreetKey',\n",
       "       'NonMotoristTotal', 'NonMotoristInjury', 'NonMotoristFatal',\n",
       "       'DateHourKey', 'LocationAreaKey', 'Make', 'Year', 'BaseModel',\n",
       "       'BodyClass', 'Cylinders', 'Displacement', 'Transmission', 'Drivetrain',\n",
       "       'FuelType', 'CityMPG', 'HighwayMPG', 'RoadName_x', 'RouteType_x',\n",
       "       'RoadName_y', 'RouteType_y', 'RoadKey_y'],\n",
       "      dtype='object')"
      ]
     },
     "execution_count": 14,
     "metadata": {},
     "output_type": "execute_result"
    }
   ],
   "source": [
    "all.columns"
   ]
  },
  {
   "cell_type": "code",
   "execution_count": 20,
   "id": "f237aa78-76ca-41a3-ac2b-c79ff9a85eb3",
   "metadata": {},
   "outputs": [
    {
     "data": {
      "text/plain": [
       "172105"
      ]
     },
     "execution_count": 20,
     "metadata": {},
     "output_type": "execute_result"
    }
   ],
   "source": [
    "len(all)"
   ]
  },
  {
   "cell_type": "code",
   "execution_count": 28,
   "id": "4f8c3ee9-5acc-4eaf-99b5-2fe4ac172c52",
   "metadata": {},
   "outputs": [],
   "source": [
    "withloc = all.merge(location, on='LocationAreaKey')"
   ]
  },
  {
   "cell_type": "code",
   "execution_count": 29,
   "id": "f8b74d24-389d-4d89-bbac-24ecea810222",
   "metadata": {},
   "outputs": [
    {
     "data": {
      "text/plain": [
       "172105"
      ]
     },
     "execution_count": 29,
     "metadata": {},
     "output_type": "execute_result"
    }
   ],
   "source": [
    "len(withloc)"
   ]
  },
  {
   "cell_type": "code",
   "execution_count": null,
   "id": "46bd8e02-09dc-414b-b3d3-90167b18a8d1",
   "metadata": {},
   "outputs": [],
   "source": []
  }
 ],
 "metadata": {
  "kernelspec": {
   "display_name": "Python 3 (ipykernel)",
   "language": "python",
   "name": "python3"
  },
  "language_info": {
   "codemirror_mode": {
    "name": "ipython",
    "version": 3
   },
   "file_extension": ".py",
   "mimetype": "text/x-python",
   "name": "python",
   "nbconvert_exporter": "python",
   "pygments_lexer": "ipython3",
   "version": "3.11.7"
  }
 },
 "nbformat": 4,
 "nbformat_minor": 5
}
