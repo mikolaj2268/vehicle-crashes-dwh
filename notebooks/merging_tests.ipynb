{
 "cells": [
  {
   "cell_type": "code",
   "execution_count": 1,
   "id": "381a6b6c-6ded-45a0-ae5f-8c4c2a5c486f",
   "metadata": {},
   "outputs": [],
   "source": [
    "import pandas as pd"
   ]
  },
  {
   "cell_type": "code",
   "execution_count": 30,
   "id": "52dd8618-1683-4916-8d61-c8930720cdee",
   "metadata": {},
   "outputs": [],
   "source": [
    "crashes = pd.read_csv(\"../data/dwh/CrashesFact.csv\")\n",
    "drivers = pd.read_csv(\"../data/dwh/DriversFact.csv\")\n",
    "roaddim = pd.read_csv(\"../data/dwh/RoadDim.csv\")\n",
    "vehicles = pd.read_csv(\"../data/dwh/VehicleDim.csv\")\n",
    "location = pd.read_csv(\"../data/dwh/LocationAreaDim.csv\")\n",
    "weather = pd.read_csv(\"../data/dwh/WeatherFact.csv\")\n",
    "datehour = pd.read_csv(\"../data/dwh/DateHourDim.csv\")"
   ]
  },
  {
   "cell_type": "code",
   "execution_count": 3,
   "id": "dd5ab17f-d8aa-4ce6-81ec-98604e4f9b08",
   "metadata": {},
   "outputs": [
    {
     "data": {
      "text/plain": [
       "172105"
      ]
     },
     "execution_count": 3,
     "metadata": {},
     "output_type": "execute_result"
    }
   ],
   "source": [
    "len(drivers)"
   ]
  },
  {
   "cell_type": "code",
   "execution_count": 17,
   "id": "96c52597-c2b6-427f-80c5-9ce250d73065",
   "metadata": {},
   "outputs": [],
   "source": [
    "fact_merged = drivers.merge(crashes, on='ReportNumber')"
   ]
  },
  {
   "cell_type": "code",
   "execution_count": 17,
   "id": "d09cf8a0",
   "metadata": {},
   "outputs": [
    {
     "data": {
      "text/plain": [
       "0         2024010314\n",
       "1         2024010314\n",
       "2         2023121612\n",
       "3         2023122912\n",
       "4         2023122912\n",
       "             ...    \n",
       "172100    2015070511\n",
       "172101    2020091217\n",
       "172102    2021070117\n",
       "172103    2022111102\n",
       "172104    2022121509\n",
       "Name: DateHourKey, Length: 172105, dtype: int64"
      ]
     },
     "execution_count": 17,
     "metadata": {},
     "output_type": "execute_result"
    }
   ],
   "source": [
    "fact_merged['DateHourKey']"
   ]
  },
  {
   "cell_type": "code",
   "execution_count": 21,
   "id": "e9f1e462",
   "metadata": {},
   "outputs": [],
   "source": [
    "# fact_merged['DateHourKey'] = fact_merged['DateHourKey'].astype(str)\n",
    "filtered_df = fact_merged[fact_merged['DateHourKey'].astype(str).str.startswith('2023')]"
   ]
  },
  {
   "cell_type": "code",
   "execution_count": 22,
   "id": "de287356",
   "metadata": {},
   "outputs": [
    {
     "data": {
      "text/plain": [
       "Index(['ReportNumber', 'VehicleCrashKey', 'DriverAtFault',\n",
       "       'DriverInjurySeverity', 'DriverSubstanceAbuse', 'DriverDistractedBy',\n",
       "       'VehicleType', 'VehicleMovement', 'VehicleGoingDir',\n",
       "       'VehicleDamageExtent', 'SpeedLimit', 'ParkedVehicle',\n",
       "       'SubstanceAbuseContributed', 'VehiclesCrashedTotal', 'VehicleKey',\n",
       "       'LocalCaseNumber', 'AgencyName', 'ACRSReportType', 'HitRun',\n",
       "       'LaneDirection', 'LaneNumber', 'NumberOfLanes', 'RoadGrade',\n",
       "       'NonTraffic', 'OffRoadIncident', 'AccidentAtFault', 'CollisionType',\n",
       "       'SurfaceCondition', 'Light', 'TrafficControl', 'Junction',\n",
       "       'IntersectionType', 'RoadAlignment', 'RoadCondition', 'RoadDivision',\n",
       "       'Latitude', 'Longitude', 'RoadKey', 'CrossStreetKey',\n",
       "       'NonMotoristTotal', 'NonMotoristInjury', 'NonMotoristFatal',\n",
       "       'DateHourKey', 'LocationAreaKey'],\n",
       "      dtype='object')"
      ]
     },
     "execution_count": 22,
     "metadata": {},
     "output_type": "execute_result"
    }
   ],
   "source": [
    "filtered_df.columns"
   ]
  },
  {
   "cell_type": "code",
   "execution_count": 7,
   "id": "e5c18135",
   "metadata": {},
   "outputs": [
    {
     "data": {
      "text/plain": [
       "NonMotoristFatal\n",
       "0    171975\n",
       "1       129\n",
       "2         1\n",
       "Name: count, dtype: int64"
      ]
     },
     "execution_count": 7,
     "metadata": {},
     "output_type": "execute_result"
    }
   ],
   "source": [
    "fact_merged['NonMotoristFatal'].value_counts(dropna=False)"
   ]
  },
  {
   "cell_type": "code",
   "execution_count": 23,
   "id": "4fff73c7",
   "metadata": {},
   "outputs": [],
   "source": [
    "filtered_df.to_csv(\"../data/dwh/VehicleCrashFact2023.csv\")"
   ]
  },
  {
   "cell_type": "code",
   "execution_count": 5,
   "id": "cc0e76c6-ef25-4fd8-b905-235112c625ff",
   "metadata": {},
   "outputs": [
    {
     "data": {
      "text/plain": [
       "172105"
      ]
     },
     "execution_count": 5,
     "metadata": {},
     "output_type": "execute_result"
    }
   ],
   "source": [
    "len(fact_merged)"
   ]
  },
  {
   "cell_type": "code",
   "execution_count": 18,
   "id": "b308b8db-7fd4-4a3a-a4e0-f3c56a34dbd1",
   "metadata": {},
   "outputs": [],
   "source": [
    "fact_vehicles = fact_merged.merge(vehicles, on='VehicleKey')"
   ]
  },
  {
   "cell_type": "code",
   "execution_count": 12,
   "id": "c400973e-a72d-4ebb-8f53-a7b904598936",
   "metadata": {},
   "outputs": [
    {
     "data": {
      "text/plain": [
       "172105"
      ]
     },
     "execution_count": 12,
     "metadata": {},
     "output_type": "execute_result"
    }
   ],
   "source": [
    "len(fact_vehicles)"
   ]
  },
  {
   "cell_type": "code",
   "execution_count": 19,
   "id": "262f7066-6129-40b4-ab1f-dcd0e3a32e97",
   "metadata": {},
   "outputs": [],
   "source": [
    "all = fact_vehicles.merge(roaddim, left_on='RoadKey', right_on='RoadKey').merge(roaddim, left_on='CrossStreetKey', right_on='RoadKey')"
   ]
  },
  {
   "cell_type": "code",
   "execution_count": 37,
   "id": "14c6a522-63ce-4bae-8dbc-239c558a07d5",
   "metadata": {},
   "outputs": [],
   "source": [
    "pd.set_option('display.max_rows', None)"
   ]
  },
  {
   "cell_type": "code",
   "execution_count": 43,
   "id": "04c0698a-0557-41d3-be3c-7ae53da358fa",
   "metadata": {},
   "outputs": [],
   "source": [
    "result = pd.DataFrame()"
   ]
  },
  {
   "cell_type": "code",
   "execution_count": 45,
   "id": "f4460560-b54a-44e5-9b86-f5b67aa044c0",
   "metadata": {},
   "outputs": [],
   "source": [
    "result['LocationAreaKey'] = (\n",
    "    location['CentroidLongitude'].astype(str).str.replace('.', '', regex=False).str.replace('-', '', regex=False).str[1:6] +\n",
    "    location['CentroidLatitude'].astype(str).str.replace('.', '', regex=False).str.replace('-', '', regex=False).str[1:6]\n",
    ")"
   ]
  },
  {
   "cell_type": "code",
   "execution_count": 48,
   "id": "769a0c77-abdc-4052-be7b-f4967f7584c1",
   "metadata": {},
   "outputs": [
    {
     "data": {
      "text/plain": [
       "98"
      ]
     },
     "execution_count": 48,
     "metadata": {},
     "output_type": "execute_result"
    }
   ],
   "source": [
    "len(result['LocationAreaKey'].value_counts())"
   ]
  },
  {
   "cell_type": "code",
   "execution_count": 42,
   "id": "bb49aee9-d962-47fa-8370-d4058100d9f9",
   "metadata": {},
   "outputs": [
    {
     "data": {
      "text/plain": [
       "97     0.000000\n",
       "1     38.956480\n",
       "53    38.965429\n",
       "0     38.966627\n",
       "2     38.973140\n",
       "88    38.980919\n",
       "89    38.982236\n",
       "10    38.982547\n",
       "22    38.983819\n",
       "9     38.987732\n",
       "3     38.994224\n",
       "5     38.994319\n",
       "55    38.995168\n",
       "4     38.995261\n",
       "6     38.995417\n",
       "7     38.995515\n",
       "28    38.996189\n",
       "8     38.996903\n",
       "11    38.998791\n",
       "12    38.999503\n",
       "13    38.999767\n",
       "20    38.999893\n",
       "14    39.000944\n",
       "21    39.001824\n",
       "24    39.001908\n",
       "15    39.002752\n",
       "17    39.004036\n",
       "18    39.004571\n",
       "19    39.005195\n",
       "23    39.013921\n",
       "25    39.016894\n",
       "27    39.018294\n",
       "37    39.021308\n",
       "30    39.025657\n",
       "26    39.032864\n",
       "41    39.034578\n",
       "47    39.035839\n",
       "36    39.035988\n",
       "29    39.036012\n",
       "42    39.038956\n",
       "54    39.039518\n",
       "40    39.043846\n",
       "43    39.043964\n",
       "39    39.044821\n",
       "16    39.045691\n",
       "46    39.051553\n",
       "49    39.067210\n",
       "48    39.078054\n",
       "44    39.080512\n",
       "45    39.080529\n",
       "32    39.088591\n",
       "50    39.090864\n",
       "60    39.102238\n",
       "34    39.109026\n",
       "66    39.111706\n",
       "62    39.113159\n",
       "59    39.113936\n",
       "31    39.117314\n",
       "33    39.122789\n",
       "51    39.127992\n",
       "52    39.128018\n",
       "56    39.131416\n",
       "80    39.132190\n",
       "72    39.137712\n",
       "57    39.139333\n",
       "35    39.140521\n",
       "64    39.140821\n",
       "58    39.144159\n",
       "69    39.150003\n",
       "70    39.151115\n",
       "63    39.152404\n",
       "61    39.160699\n",
       "65    39.161608\n",
       "73    39.165106\n",
       "67    39.165918\n",
       "68    39.166090\n",
       "74    39.170519\n",
       "78    39.178534\n",
       "77    39.179290\n",
       "75    39.181180\n",
       "71    39.181419\n",
       "92    39.188277\n",
       "95    39.190007\n",
       "76    39.191501\n",
       "79    39.194169\n",
       "94    39.203696\n",
       "93    39.208771\n",
       "91    39.225840\n",
       "90    39.227539\n",
       "38    39.231539\n",
       "83    39.257603\n",
       "81    39.277622\n",
       "96    39.281675\n",
       "85    39.291851\n",
       "82    39.292640\n",
       "87    39.313204\n",
       "86    39.329336\n",
       "84    39.331287\n",
       "Name: CentroidLatitude, dtype: float64"
      ]
     },
     "execution_count": 42,
     "metadata": {},
     "output_type": "execute_result"
    }
   ],
   "source": [
    "location['CentroidLatitude'].sort_values()"
   ]
  },
  {
   "cell_type": "code",
   "execution_count": 34,
   "id": "132c7e0e-92bf-4d8f-b339-5a6d5ac3df34",
   "metadata": {},
   "outputs": [
    {
     "data": {
      "text/plain": [
       "LocationAreaKey\n",
       "7704240439043964    11404\n",
       "7705486039088590    10821\n",
       "7703596439001907    10297\n",
       "7698062539067210    10157\n",
       "7718114539090864    10025\n",
       "                    ...  \n",
       "7705641539013920        2\n",
       "7699874839161607        2\n",
       "7721708939331286        1\n",
       "7695181739045691        1\n",
       "7743192339181418        1\n",
       "Name: count, Length: 79, dtype: int64"
      ]
     },
     "execution_count": 34,
     "metadata": {},
     "output_type": "execute_result"
    }
   ],
   "source": [
    "all['LocationAreaKey'].value_counts()"
   ]
  },
  {
   "cell_type": "code",
   "execution_count": 14,
   "id": "82895d6d-3839-44fc-a873-5538274ec8d6",
   "metadata": {},
   "outputs": [
    {
     "data": {
      "text/plain": [
       "Index(['ReportNumber', 'VehicleCrashKey', 'DriverAtFault',\n",
       "       'DriverInjurySeverity', 'DriverSubstanceAbuse', 'DriverDistractedBy',\n",
       "       'VehicleType', 'VehicleMovement', 'VehicleGoingDir',\n",
       "       'VehicleDamageExtent', 'SpeedLimit', 'ParkedVehicle',\n",
       "       'SubstanceAbuseContributed', 'VehiclesCrashedTotal', 'VehicleKey',\n",
       "       'LocalCaseNumber', 'AgencyName', 'ACRSReportType', 'HitRun',\n",
       "       'LaneDirection', 'LaneNumber', 'NumberOfLanes', 'RoadGrade',\n",
       "       'NonTraffic', 'OffRoadIncident', 'AccidentAtFault', 'CollisionType',\n",
       "       'SurfaceCondition', 'Light', 'TrafficControl', 'Junction',\n",
       "       'IntersectionType', 'RoadAlignment', 'RoadCondition', 'RoadDivision',\n",
       "       'Latitude', 'Longitude', 'RoadKey_x', 'CrossStreetKey',\n",
       "       'NonMotoristTotal', 'NonMotoristInjury', 'NonMotoristFatal',\n",
       "       'DateHourKey', 'LocationAreaKey', 'Make', 'Year', 'BaseModel',\n",
       "       'BodyClass', 'Cylinders', 'Displacement', 'Transmission', 'Drivetrain',\n",
       "       'FuelType', 'CityMPG', 'HighwayMPG', 'RoadName_x', 'RouteType_x',\n",
       "       'RoadName_y', 'RouteType_y', 'RoadKey_y'],\n",
       "      dtype='object')"
      ]
     },
     "execution_count": 14,
     "metadata": {},
     "output_type": "execute_result"
    }
   ],
   "source": [
    "all.columns"
   ]
  },
  {
   "cell_type": "code",
   "execution_count": 20,
   "id": "f237aa78-76ca-41a3-ac2b-c79ff9a85eb3",
   "metadata": {},
   "outputs": [
    {
     "data": {
      "text/plain": [
       "172105"
      ]
     },
     "execution_count": 20,
     "metadata": {},
     "output_type": "execute_result"
    }
   ],
   "source": [
    "len(all)"
   ]
  },
  {
   "cell_type": "code",
   "execution_count": 28,
   "id": "4f8c3ee9-5acc-4eaf-99b5-2fe4ac172c52",
   "metadata": {},
   "outputs": [],
   "source": [
    "withloc = all.merge(location, on='LocationAreaKey')"
   ]
  },
  {
   "cell_type": "code",
   "execution_count": 29,
   "id": "f8b74d24-389d-4d89-bbac-24ecea810222",
   "metadata": {},
   "outputs": [
    {
     "data": {
      "text/plain": [
       "172105"
      ]
     },
     "execution_count": 29,
     "metadata": {},
     "output_type": "execute_result"
    }
   ],
   "source": [
    "len(withloc)"
   ]
  },
  {
   "cell_type": "code",
   "execution_count": 32,
   "id": "51ea4616-5883-4e77-a264-f99d969fd215",
   "metadata": {},
   "outputs": [
    {
     "data": {
      "text/html": [
       "<div>\n",
       "<style scoped>\n",
       "    .dataframe tbody tr th:only-of-type {\n",
       "        vertical-align: middle;\n",
       "    }\n",
       "\n",
       "    .dataframe tbody tr th {\n",
       "        vertical-align: top;\n",
       "    }\n",
       "\n",
       "    .dataframe thead th {\n",
       "        text-align: right;\n",
       "    }\n",
       "</style>\n",
       "<table border=\"1\" class=\"dataframe\">\n",
       "  <thead>\n",
       "    <tr style=\"text-align: right;\">\n",
       "      <th></th>\n",
       "      <th>Temperature</th>\n",
       "      <th>Humidity</th>\n",
       "      <th>Precipitation</th>\n",
       "      <th>Rain</th>\n",
       "      <th>Snow</th>\n",
       "      <th>WindSpeed</th>\n",
       "      <th>WindDirection</th>\n",
       "      <th>LocationAreaKey</th>\n",
       "      <th>WeatherKey</th>\n",
       "      <th>DateHourKey</th>\n",
       "    </tr>\n",
       "  </thead>\n",
       "  <tbody>\n",
       "    <tr>\n",
       "      <th>0</th>\n",
       "      <td>11.6570</td>\n",
       "      <td>99.67032</td>\n",
       "      <td>0.1</td>\n",
       "      <td>0.1</td>\n",
       "      <td>0.0</td>\n",
       "      <td>10.182337</td>\n",
       "      <td>278.13000</td>\n",
       "      <td>771429374349402238966626952792325</td>\n",
       "      <td>-4110213040754109933</td>\n",
       "      <td>2023010104</td>\n",
       "    </tr>\n",
       "    <tr>\n",
       "      <th>1</th>\n",
       "      <td>11.0070</td>\n",
       "      <td>99.66863</td>\n",
       "      <td>0.0</td>\n",
       "      <td>0.0</td>\n",
       "      <td>0.0</td>\n",
       "      <td>11.659777</td>\n",
       "      <td>278.88058</td>\n",
       "      <td>771429374349402238966626952792325</td>\n",
       "      <td>6748581266405893265</td>\n",
       "      <td>2023010105</td>\n",
       "    </tr>\n",
       "    <tr>\n",
       "      <th>2</th>\n",
       "      <td>10.4570</td>\n",
       "      <td>100.00000</td>\n",
       "      <td>0.0</td>\n",
       "      <td>0.0</td>\n",
       "      <td>0.0</td>\n",
       "      <td>13.207634</td>\n",
       "      <td>287.44727</td>\n",
       "      <td>771429374349402238966626952792325</td>\n",
       "      <td>-4226237838032818393</td>\n",
       "      <td>2023010106</td>\n",
       "    </tr>\n",
       "    <tr>\n",
       "      <th>3</th>\n",
       "      <td>10.8070</td>\n",
       "      <td>94.80493</td>\n",
       "      <td>0.0</td>\n",
       "      <td>0.0</td>\n",
       "      <td>0.0</td>\n",
       "      <td>15.596767</td>\n",
       "      <td>288.85324</td>\n",
       "      <td>771429374349402238966626952792325</td>\n",
       "      <td>3748766154720126854</td>\n",
       "      <td>2023010107</td>\n",
       "    </tr>\n",
       "    <tr>\n",
       "      <th>4</th>\n",
       "      <td>10.2570</td>\n",
       "      <td>95.42164</td>\n",
       "      <td>0.0</td>\n",
       "      <td>0.0</td>\n",
       "      <td>0.0</td>\n",
       "      <td>15.827721</td>\n",
       "      <td>287.19864</td>\n",
       "      <td>771429374349402238966626952792325</td>\n",
       "      <td>-6325941415555862677</td>\n",
       "      <td>2023010108</td>\n",
       "    </tr>\n",
       "    <tr>\n",
       "      <th>...</th>\n",
       "      <td>...</td>\n",
       "      <td>...</td>\n",
       "      <td>...</td>\n",
       "      <td>...</td>\n",
       "      <td>...</td>\n",
       "      <td>...</td>\n",
       "      <td>...</td>\n",
       "      <td>...</td>\n",
       "      <td>...</td>\n",
       "      <td>...</td>\n",
       "    </tr>\n",
       "    <tr>\n",
       "      <th>289075</th>\n",
       "      <td>4.7325</td>\n",
       "      <td>70.55370</td>\n",
       "      <td>0.0</td>\n",
       "      <td>0.0</td>\n",
       "      <td>0.0</td>\n",
       "      <td>7.928178</td>\n",
       "      <td>177.39749</td>\n",
       "      <td>77054860919072573908859082555049</td>\n",
       "      <td>-2635160836565701956</td>\n",
       "      <td>2023123123</td>\n",
       "    </tr>\n",
       "    <tr>\n",
       "      <th>289076</th>\n",
       "      <td>4.5825</td>\n",
       "      <td>70.26762</td>\n",
       "      <td>0.0</td>\n",
       "      <td>0.0</td>\n",
       "      <td>0.0</td>\n",
       "      <td>8.287822</td>\n",
       "      <td>182.48950</td>\n",
       "      <td>77054860919072573908859082555049</td>\n",
       "      <td>9154666140927325096</td>\n",
       "      <td>2024010100</td>\n",
       "    </tr>\n",
       "    <tr>\n",
       "      <th>289077</th>\n",
       "      <td>3.6325</td>\n",
       "      <td>75.10847</td>\n",
       "      <td>0.1</td>\n",
       "      <td>0.1</td>\n",
       "      <td>0.0</td>\n",
       "      <td>7.208994</td>\n",
       "      <td>177.13765</td>\n",
       "      <td>77054860919072573908859082555049</td>\n",
       "      <td>-8133445374556158272</td>\n",
       "      <td>2024010101</td>\n",
       "    </tr>\n",
       "    <tr>\n",
       "      <th>289078</th>\n",
       "      <td>3.2325</td>\n",
       "      <td>76.41821</td>\n",
       "      <td>0.1</td>\n",
       "      <td>0.1</td>\n",
       "      <td>0.0</td>\n",
       "      <td>6.034700</td>\n",
       "      <td>162.64589</td>\n",
       "      <td>77054860919072573908859082555049</td>\n",
       "      <td>7401791067473064808</td>\n",
       "      <td>2024010102</td>\n",
       "    </tr>\n",
       "    <tr>\n",
       "      <th>289079</th>\n",
       "      <td>2.9325</td>\n",
       "      <td>77.77289</td>\n",
       "      <td>0.0</td>\n",
       "      <td>0.0</td>\n",
       "      <td>0.0</td>\n",
       "      <td>4.896529</td>\n",
       "      <td>162.89719</td>\n",
       "      <td>77054860919072573908859082555049</td>\n",
       "      <td>5208140487550493586</td>\n",
       "      <td>2024010103</td>\n",
       "    </tr>\n",
       "  </tbody>\n",
       "</table>\n",
       "<p>289080 rows × 10 columns</p>\n",
       "</div>"
      ],
      "text/plain": [
       "        Temperature   Humidity  Precipitation  Rain  Snow  WindSpeed  \\\n",
       "0           11.6570   99.67032            0.1   0.1   0.0  10.182337   \n",
       "1           11.0070   99.66863            0.0   0.0   0.0  11.659777   \n",
       "2           10.4570  100.00000            0.0   0.0   0.0  13.207634   \n",
       "3           10.8070   94.80493            0.0   0.0   0.0  15.596767   \n",
       "4           10.2570   95.42164            0.0   0.0   0.0  15.827721   \n",
       "...             ...        ...            ...   ...   ...        ...   \n",
       "289075       4.7325   70.55370            0.0   0.0   0.0   7.928178   \n",
       "289076       4.5825   70.26762            0.0   0.0   0.0   8.287822   \n",
       "289077       3.6325   75.10847            0.1   0.1   0.0   7.208994   \n",
       "289078       3.2325   76.41821            0.1   0.1   0.0   6.034700   \n",
       "289079       2.9325   77.77289            0.0   0.0   0.0   4.896529   \n",
       "\n",
       "        WindDirection                    LocationAreaKey           WeatherKey  \\\n",
       "0           278.13000  771429374349402238966626952792325 -4110213040754109933   \n",
       "1           278.88058  771429374349402238966626952792325  6748581266405893265   \n",
       "2           287.44727  771429374349402238966626952792325 -4226237838032818393   \n",
       "3           288.85324  771429374349402238966626952792325  3748766154720126854   \n",
       "4           287.19864  771429374349402238966626952792325 -6325941415555862677   \n",
       "...               ...                                ...                  ...   \n",
       "289075      177.39749   77054860919072573908859082555049 -2635160836565701956   \n",
       "289076      182.48950   77054860919072573908859082555049  9154666140927325096   \n",
       "289077      177.13765   77054860919072573908859082555049 -8133445374556158272   \n",
       "289078      162.64589   77054860919072573908859082555049  7401791067473064808   \n",
       "289079      162.89719   77054860919072573908859082555049  5208140487550493586   \n",
       "\n",
       "        DateHourKey  \n",
       "0        2023010104  \n",
       "1        2023010105  \n",
       "2        2023010106  \n",
       "3        2023010107  \n",
       "4        2023010108  \n",
       "...             ...  \n",
       "289075   2023123123  \n",
       "289076   2024010100  \n",
       "289077   2024010101  \n",
       "289078   2024010102  \n",
       "289079   2024010103  \n",
       "\n",
       "[289080 rows x 10 columns]"
      ]
     },
     "execution_count": 32,
     "metadata": {},
     "output_type": "execute_result"
    }
   ],
   "source": [
    "weather"
   ]
  },
  {
   "cell_type": "code",
   "execution_count": 31,
   "id": "46bd8e02-09dc-414b-b3d3-90167b18a8d1",
   "metadata": {},
   "outputs": [
    {
     "ename": "ValueError",
     "evalue": "You are trying to merge on int64 and object columns for key 'LocationAreaKey'. If you wish to proceed you should use pd.concat",
     "output_type": "error",
     "traceback": [
      "\u001b[1;31m---------------------------------------------------------------------------\u001b[0m",
      "\u001b[1;31mValueError\u001b[0m                                Traceback (most recent call last)",
      "Cell \u001b[1;32mIn[31], line 1\u001b[0m\n\u001b[1;32m----> 1\u001b[0m withweather \u001b[38;5;241m=\u001b[39m withloc\u001b[38;5;241m.\u001b[39mmerge(weather, on\u001b[38;5;241m=\u001b[39m\u001b[38;5;124m'\u001b[39m\u001b[38;5;124mLocationAreaKey\u001b[39m\u001b[38;5;124m'\u001b[39m)\n",
      "File \u001b[1;32mC:\\ProgramData\\anaconda3\\Lib\\site-packages\\pandas\\core\\frame.py:10487\u001b[0m, in \u001b[0;36mDataFrame.merge\u001b[1;34m(self, right, how, on, left_on, right_on, left_index, right_index, sort, suffixes, copy, indicator, validate)\u001b[0m\n\u001b[0;32m  10468\u001b[0m \u001b[38;5;129m@Substitution\u001b[39m(\u001b[38;5;124m\"\u001b[39m\u001b[38;5;124m\"\u001b[39m)\n\u001b[0;32m  10469\u001b[0m \u001b[38;5;129m@Appender\u001b[39m(_merge_doc, indents\u001b[38;5;241m=\u001b[39m\u001b[38;5;241m2\u001b[39m)\n\u001b[0;32m  10470\u001b[0m \u001b[38;5;28;01mdef\u001b[39;00m \u001b[38;5;21mmerge\u001b[39m(\n\u001b[1;32m   (...)\u001b[0m\n\u001b[0;32m  10483\u001b[0m     validate: MergeValidate \u001b[38;5;241m|\u001b[39m \u001b[38;5;28;01mNone\u001b[39;00m \u001b[38;5;241m=\u001b[39m \u001b[38;5;28;01mNone\u001b[39;00m,\n\u001b[0;32m  10484\u001b[0m ) \u001b[38;5;241m-\u001b[39m\u001b[38;5;241m>\u001b[39m DataFrame:\n\u001b[0;32m  10485\u001b[0m     \u001b[38;5;28;01mfrom\u001b[39;00m \u001b[38;5;21;01mpandas\u001b[39;00m\u001b[38;5;21;01m.\u001b[39;00m\u001b[38;5;21;01mcore\u001b[39;00m\u001b[38;5;21;01m.\u001b[39;00m\u001b[38;5;21;01mreshape\u001b[39;00m\u001b[38;5;21;01m.\u001b[39;00m\u001b[38;5;21;01mmerge\u001b[39;00m \u001b[38;5;28;01mimport\u001b[39;00m merge\n\u001b[1;32m> 10487\u001b[0m     \u001b[38;5;28;01mreturn\u001b[39;00m merge(\n\u001b[0;32m  10488\u001b[0m         \u001b[38;5;28mself\u001b[39m,\n\u001b[0;32m  10489\u001b[0m         right,\n\u001b[0;32m  10490\u001b[0m         how\u001b[38;5;241m=\u001b[39mhow,\n\u001b[0;32m  10491\u001b[0m         on\u001b[38;5;241m=\u001b[39mon,\n\u001b[0;32m  10492\u001b[0m         left_on\u001b[38;5;241m=\u001b[39mleft_on,\n\u001b[0;32m  10493\u001b[0m         right_on\u001b[38;5;241m=\u001b[39mright_on,\n\u001b[0;32m  10494\u001b[0m         left_index\u001b[38;5;241m=\u001b[39mleft_index,\n\u001b[0;32m  10495\u001b[0m         right_index\u001b[38;5;241m=\u001b[39mright_index,\n\u001b[0;32m  10496\u001b[0m         sort\u001b[38;5;241m=\u001b[39msort,\n\u001b[0;32m  10497\u001b[0m         suffixes\u001b[38;5;241m=\u001b[39msuffixes,\n\u001b[0;32m  10498\u001b[0m         copy\u001b[38;5;241m=\u001b[39mcopy,\n\u001b[0;32m  10499\u001b[0m         indicator\u001b[38;5;241m=\u001b[39mindicator,\n\u001b[0;32m  10500\u001b[0m         validate\u001b[38;5;241m=\u001b[39mvalidate,\n\u001b[0;32m  10501\u001b[0m     )\n",
      "File \u001b[1;32mC:\\ProgramData\\anaconda3\\Lib\\site-packages\\pandas\\core\\reshape\\merge.py:169\u001b[0m, in \u001b[0;36mmerge\u001b[1;34m(left, right, how, on, left_on, right_on, left_index, right_index, sort, suffixes, copy, indicator, validate)\u001b[0m\n\u001b[0;32m    154\u001b[0m     \u001b[38;5;28;01mreturn\u001b[39;00m _cross_merge(\n\u001b[0;32m    155\u001b[0m         left_df,\n\u001b[0;32m    156\u001b[0m         right_df,\n\u001b[1;32m   (...)\u001b[0m\n\u001b[0;32m    166\u001b[0m         copy\u001b[38;5;241m=\u001b[39mcopy,\n\u001b[0;32m    167\u001b[0m     )\n\u001b[0;32m    168\u001b[0m \u001b[38;5;28;01melse\u001b[39;00m:\n\u001b[1;32m--> 169\u001b[0m     op \u001b[38;5;241m=\u001b[39m _MergeOperation(\n\u001b[0;32m    170\u001b[0m         left_df,\n\u001b[0;32m    171\u001b[0m         right_df,\n\u001b[0;32m    172\u001b[0m         how\u001b[38;5;241m=\u001b[39mhow,\n\u001b[0;32m    173\u001b[0m         on\u001b[38;5;241m=\u001b[39mon,\n\u001b[0;32m    174\u001b[0m         left_on\u001b[38;5;241m=\u001b[39mleft_on,\n\u001b[0;32m    175\u001b[0m         right_on\u001b[38;5;241m=\u001b[39mright_on,\n\u001b[0;32m    176\u001b[0m         left_index\u001b[38;5;241m=\u001b[39mleft_index,\n\u001b[0;32m    177\u001b[0m         right_index\u001b[38;5;241m=\u001b[39mright_index,\n\u001b[0;32m    178\u001b[0m         sort\u001b[38;5;241m=\u001b[39msort,\n\u001b[0;32m    179\u001b[0m         suffixes\u001b[38;5;241m=\u001b[39msuffixes,\n\u001b[0;32m    180\u001b[0m         indicator\u001b[38;5;241m=\u001b[39mindicator,\n\u001b[0;32m    181\u001b[0m         validate\u001b[38;5;241m=\u001b[39mvalidate,\n\u001b[0;32m    182\u001b[0m     )\n\u001b[0;32m    183\u001b[0m     \u001b[38;5;28;01mreturn\u001b[39;00m op\u001b[38;5;241m.\u001b[39mget_result(copy\u001b[38;5;241m=\u001b[39mcopy)\n",
      "File \u001b[1;32mC:\\ProgramData\\anaconda3\\Lib\\site-packages\\pandas\\core\\reshape\\merge.py:804\u001b[0m, in \u001b[0;36m_MergeOperation.__init__\u001b[1;34m(self, left, right, how, on, left_on, right_on, left_index, right_index, sort, suffixes, indicator, validate)\u001b[0m\n\u001b[0;32m    800\u001b[0m \u001b[38;5;28mself\u001b[39m\u001b[38;5;241m.\u001b[39m_validate_tolerance(\u001b[38;5;28mself\u001b[39m\u001b[38;5;241m.\u001b[39mleft_join_keys)\n\u001b[0;32m    802\u001b[0m \u001b[38;5;66;03m# validate the merge keys dtypes. We may need to coerce\u001b[39;00m\n\u001b[0;32m    803\u001b[0m \u001b[38;5;66;03m# to avoid incompatible dtypes\u001b[39;00m\n\u001b[1;32m--> 804\u001b[0m \u001b[38;5;28mself\u001b[39m\u001b[38;5;241m.\u001b[39m_maybe_coerce_merge_keys()\n\u001b[0;32m    806\u001b[0m \u001b[38;5;66;03m# If argument passed to validate,\u001b[39;00m\n\u001b[0;32m    807\u001b[0m \u001b[38;5;66;03m# check if columns specified as unique\u001b[39;00m\n\u001b[0;32m    808\u001b[0m \u001b[38;5;66;03m# are in fact unique.\u001b[39;00m\n\u001b[0;32m    809\u001b[0m \u001b[38;5;28;01mif\u001b[39;00m validate \u001b[38;5;129;01mis\u001b[39;00m \u001b[38;5;129;01mnot\u001b[39;00m \u001b[38;5;28;01mNone\u001b[39;00m:\n",
      "File \u001b[1;32mC:\\ProgramData\\anaconda3\\Lib\\site-packages\\pandas\\core\\reshape\\merge.py:1479\u001b[0m, in \u001b[0;36m_MergeOperation._maybe_coerce_merge_keys\u001b[1;34m(self)\u001b[0m\n\u001b[0;32m   1473\u001b[0m     \u001b[38;5;66;03m# unless we are merging non-string-like with string-like\u001b[39;00m\n\u001b[0;32m   1474\u001b[0m     \u001b[38;5;28;01melif\u001b[39;00m (\n\u001b[0;32m   1475\u001b[0m         inferred_left \u001b[38;5;129;01min\u001b[39;00m string_types \u001b[38;5;129;01mand\u001b[39;00m inferred_right \u001b[38;5;129;01mnot\u001b[39;00m \u001b[38;5;129;01min\u001b[39;00m string_types\n\u001b[0;32m   1476\u001b[0m     ) \u001b[38;5;129;01mor\u001b[39;00m (\n\u001b[0;32m   1477\u001b[0m         inferred_right \u001b[38;5;129;01min\u001b[39;00m string_types \u001b[38;5;129;01mand\u001b[39;00m inferred_left \u001b[38;5;129;01mnot\u001b[39;00m \u001b[38;5;129;01min\u001b[39;00m string_types\n\u001b[0;32m   1478\u001b[0m     ):\n\u001b[1;32m-> 1479\u001b[0m         \u001b[38;5;28;01mraise\u001b[39;00m \u001b[38;5;167;01mValueError\u001b[39;00m(msg)\n\u001b[0;32m   1481\u001b[0m \u001b[38;5;66;03m# datetimelikes must match exactly\u001b[39;00m\n\u001b[0;32m   1482\u001b[0m \u001b[38;5;28;01melif\u001b[39;00m needs_i8_conversion(lk\u001b[38;5;241m.\u001b[39mdtype) \u001b[38;5;129;01mand\u001b[39;00m \u001b[38;5;129;01mnot\u001b[39;00m needs_i8_conversion(rk\u001b[38;5;241m.\u001b[39mdtype):\n",
      "\u001b[1;31mValueError\u001b[0m: You are trying to merge on int64 and object columns for key 'LocationAreaKey'. If you wish to proceed you should use pd.concat"
     ]
    }
   ],
   "source": [
    "withweather = withloc.merge(weather, on='LocationAreaKey')"
   ]
  }
 ],
 "metadata": {
  "kernelspec": {
   "display_name": "Python 3 (ipykernel)",
   "language": "python",
   "name": "python3"
  },
  "language_info": {
   "codemirror_mode": {
    "name": "ipython",
    "version": 3
   },
   "file_extension": ".py",
   "mimetype": "text/x-python",
   "name": "python",
   "nbconvert_exporter": "python",
   "pygments_lexer": "ipython3",
   "version": "3.11.7"
  }
 },
 "nbformat": 4,
 "nbformat_minor": 5
}
